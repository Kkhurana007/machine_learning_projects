{
 "cells": [
  {
   "cell_type": "markdown",
   "id": "e2ca6f25",
   "metadata": {},
   "source": [
    "\n",
    "# Testing your code"
   ]
  },
  {
   "cell_type": "markdown",
   "id": "af53e676",
   "metadata": {},
   "source": [
    "### Learning outcomes\n",
    "1. Learn about a passing and a failing test using unittest module. \n",
    "2. how to improve the code after failing a test\n",
    "3. test functions and classes that inherits from unittest. "
   ]
  },
  {
   "cell_type": "markdown",
   "id": "43c45e39",
   "metadata": {},
   "source": [
    "### Testing a function"
   ]
  },
  {
   "cell_type": "code",
   "execution_count": 7,
   "id": "c7a8302e",
   "metadata": {},
   "outputs": [],
   "source": [
    "def get_formatted_name(first, last):\n",
    "    \"\"\"Generate a neatly formatted full name.\"\"\"\n",
    "    full_name = f\"{first} {last}\"\n",
    "    return full_name.title()\n"
   ]
  },
  {
   "cell_type": "code",
   "execution_count": 11,
   "id": "9f6e0c2a",
   "metadata": {},
   "outputs": [
    {
     "ename": "TypeError",
     "evalue": "get_formatted_name() missing 2 required positional arguments: 'first' and 'last'",
     "output_type": "error",
     "traceback": [
      "\u001b[1;31m---------------------------------------------------------------------------\u001b[0m",
      "\u001b[1;31mTypeError\u001b[0m                                 Traceback (most recent call last)",
      "Cell \u001b[1;32mIn[11], line 1\u001b[0m\n\u001b[1;32m----> 1\u001b[0m get_formatted_name()\n\u001b[0;32m      3\u001b[0m \u001b[38;5;28mprint\u001b[39m(\u001b[38;5;124m\"\u001b[39m\u001b[38;5;124mEnter \u001b[39m\u001b[38;5;124m'\u001b[39m\u001b[38;5;124mq\u001b[39m\u001b[38;5;124m'\u001b[39m\u001b[38;5;124m at any time to quit.\u001b[39m\u001b[38;5;124m\"\u001b[39m)\n\u001b[0;32m      4\u001b[0m \u001b[38;5;28;01mwhile\u001b[39;00m \u001b[38;5;28;01mTrue\u001b[39;00m:\n",
      "\u001b[1;31mTypeError\u001b[0m: get_formatted_name() missing 2 required positional arguments: 'first' and 'last'"
     ]
    }
   ],
   "source": [
    "get_formatted_name()\n",
    "\n",
    "print(\"Enter 'q' at any time to quit.\")\n",
    "while True:\n",
    "    first = input(\"/nPlease give me a first name: \")\n",
    "    if first == 'q':\n",
    "        break\n",
    "    last = input(\"Please give me a last name: \")\n",
    "    if last == 'q':\n",
    "        break\n",
    "        \n",
    "    formatted_name = get_formatted_name(first, last)\n",
    "    print(f\"\\tNeatly formatted name: {formatted_name}.\")"
   ]
  },
  {
   "cell_type": "markdown",
   "id": "f3abdf47",
   "metadata": {},
   "source": [
    "### Unit Tests and Test Cases"
   ]
  },
  {
   "cell_type": "code",
   "execution_count": null,
   "id": "05751c98",
   "metadata": {},
   "outputs": [],
   "source": []
  },
  {
   "cell_type": "markdown",
   "id": "f91f5d01",
   "metadata": {},
   "source": [
    "### A passing test"
   ]
  },
  {
   "cell_type": "code",
   "execution_count": 1,
   "id": "da24cbe6",
   "metadata": {},
   "outputs": [],
   "source": [
    "import unittest\n"
   ]
  },
  {
   "cell_type": "markdown",
   "id": "4c3fa0ea",
   "metadata": {},
   "source": [
    "### Responding to a failed test"
   ]
  },
  {
   "cell_type": "code",
   "execution_count": null,
   "id": "e4896f6b",
   "metadata": {},
   "outputs": [],
   "source": []
  },
  {
   "cell_type": "markdown",
   "id": "e5390624",
   "metadata": {},
   "source": [
    "### Adding new tests"
   ]
  },
  {
   "cell_type": "code",
   "execution_count": null,
   "id": "b219d112",
   "metadata": {},
   "outputs": [],
   "source": []
  },
  {
   "cell_type": "markdown",
   "id": "6905166c",
   "metadata": {},
   "source": [
    "## Testing a Class"
   ]
  },
  {
   "cell_type": "code",
   "execution_count": null,
   "id": "ca2b727f",
   "metadata": {},
   "outputs": [],
   "source": []
  },
  {
   "cell_type": "markdown",
   "id": "80767c3d",
   "metadata": {},
   "source": [
    "### Assert methods "
   ]
  },
  {
   "cell_type": "code",
   "execution_count": null,
   "id": "52700e69",
   "metadata": {},
   "outputs": [],
   "source": []
  },
  {
   "cell_type": "markdown",
   "id": "6ca637ef",
   "metadata": {},
   "source": [
    "### A class to test"
   ]
  },
  {
   "cell_type": "code",
   "execution_count": null,
   "id": "2a675aa7",
   "metadata": {},
   "outputs": [],
   "source": []
  },
  {
   "cell_type": "markdown",
   "id": "a6680fb7",
   "metadata": {},
   "source": [
    "### The setup() method"
   ]
  },
  {
   "cell_type": "code",
   "execution_count": null,
   "id": "b2384697",
   "metadata": {},
   "outputs": [],
   "source": []
  }
 ],
 "metadata": {
  "kernelspec": {
   "display_name": "Python 3 (ipykernel)",
   "language": "python",
   "name": "python3"
  },
  "language_info": {
   "codemirror_mode": {
    "name": "ipython",
    "version": 3
   },
   "file_extension": ".py",
   "mimetype": "text/x-python",
   "name": "python",
   "nbconvert_exporter": "python",
   "pygments_lexer": "ipython3",
   "version": "3.11.5"
  }
 },
 "nbformat": 4,
 "nbformat_minor": 5
}
