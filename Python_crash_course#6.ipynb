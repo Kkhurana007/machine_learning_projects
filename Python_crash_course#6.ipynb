{
 "cells": [
  {
   "cell_type": "markdown",
   "id": "5e08eb27",
   "metadata": {},
   "source": [
    "# Classes"
   ]
  },
  {
   "cell_type": "markdown",
   "id": "28df186a",
   "metadata": {},
   "source": [
    "### Learning outcomes\n",
    "1. a brief introduction to object-oriented programming\n",
    "2. writing and storing information in classes\n",
    "3. _init_() method\n",
    "4. intro to python's standart library and random module"
   ]
  }
 ],
 "metadata": {
  "kernelspec": {
   "display_name": "Python 3 (ipykernel)",
   "language": "python",
   "name": "python3"
  },
  "language_info": {
   "codemirror_mode": {
    "name": "ipython",
    "version": 3
   },
   "file_extension": ".py",
   "mimetype": "text/x-python",
   "name": "python",
   "nbconvert_exporter": "python",
   "pygments_lexer": "ipython3",
   "version": "3.10.9"
  }
 },
 "nbformat": 4,
 "nbformat_minor": 5
}
