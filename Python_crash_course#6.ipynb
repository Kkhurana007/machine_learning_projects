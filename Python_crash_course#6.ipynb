{
 "cells": [
  {
   "cell_type": "markdown",
   "id": "5e08eb27",
   "metadata": {},
   "source": [
    "# Classes"
   ]
  },
  {
   "cell_type": "markdown",
   "id": "28df186a",
   "metadata": {},
   "source": [
    "### Learning outcomes\n",
    "1. a brief introduction to object-oriented programming\n",
    "2. writing and storing information in classes\n",
    "3. _init_() method\n",
    "4. intro to python's standard library and random module"
   ]
  },
  {
   "cell_type": "markdown",
   "id": "741c3727",
   "metadata": {},
   "source": [
    "### Remarks*\n",
    "1. Making an object from a class is called instantiation, and you work with instances of a class.\n",
    "2. we use title case to represents classes in python\n",
    "3. Make sure to use two underscores on each side of __init__().\n",
    "4. Any variable prefixed with self is available to every method in the class, and we’ll also be able to access these variables through any instance created from the class."
   ]
  },
  {
   "cell_type": "markdown",
   "id": "abead490",
   "metadata": {},
   "source": [
    "### creating a Dog class"
   ]
  },
  {
   "cell_type": "code",
   "execution_count": 1,
   "id": "bb808c77",
   "metadata": {},
   "outputs": [],
   "source": [
    "class Dog:  #caplilazed name in python refers to classes\n",
    "    \n",
    "    def __init__(self, name, age):   #dockstring defining the class with 3 parameters; make sure to use two underscores; \n",
    "        #initiliazing attributes; self passed automatically\n",
    "        self.name = name             #argument\n",
    "        self.age = age               #argument\n",
    "        \n",
    "    def sit(self):\n",
    "        #simulate sitting\n",
    "        print(f\"{self.name} is now sitting.\")\n",
    "        \n",
    "    def roll_over(self):\n",
    "        #simulate roll over\n",
    "        print(f\"{self.name} rolled over!\")"
   ]
  },
  {
   "cell_type": "markdown",
   "id": "a2454ba1",
   "metadata": {},
   "source": [
    "### making an instance from a Class"
   ]
  },
  {
   "cell_type": "code",
   "execution_count": 3,
   "id": "0d10420b",
   "metadata": {},
   "outputs": [
    {
     "name": "stdout",
     "output_type": "stream",
     "text": [
      "My dog's name is Bruno.\n",
      "My dog's age is 6.\n"
     ]
    }
   ],
   "source": [
    "my_dog = Dog('Bruno', 6)                #lowercase in my_dog refers to single instance created from a class\n",
    "\n",
    "print(f\"My dog's name is {my_dog.name}.\")\n",
    "print(f\"My dog's age is {my_dog.age}.\")"
   ]
  },
  {
   "cell_type": "markdown",
   "id": "0aba5b02",
   "metadata": {},
   "source": [
    "### accessing atributes"
   ]
  },
  {
   "cell_type": "code",
   "execution_count": 4,
   "id": "46f28f01",
   "metadata": {},
   "outputs": [
    {
     "data": {
      "text/plain": [
       "'Bruno'"
      ]
     },
     "execution_count": 4,
     "metadata": {},
     "output_type": "execute_result"
    }
   ],
   "source": [
    "my_dog.name"
   ]
  },
  {
   "cell_type": "markdown",
   "id": "8a457179",
   "metadata": {},
   "source": [
    "### calling methods"
   ]
  },
  {
   "cell_type": "code",
   "execution_count": 6,
   "id": "a7e161ef",
   "metadata": {},
   "outputs": [
    {
     "name": "stdout",
     "output_type": "stream",
     "text": [
      "Bruno is now sitting.\n",
      "Bruno rolled over!\n"
     ]
    }
   ],
   "source": [
    "my_dog.sit()\n",
    "my_dog.roll_over()"
   ]
  },
  {
   "cell_type": "markdown",
   "id": "957afbc3",
   "metadata": {},
   "source": [
    "### creating multiple instances"
   ]
  },
  {
   "cell_type": "code",
   "execution_count": 14,
   "id": "fca54c07",
   "metadata": {},
   "outputs": [
    {
     "name": "stdout",
     "output_type": "stream",
     "text": [
      "My dog's name is Rambo.\n",
      "My dog is 6 years old.\n",
      "Rambo is now sitting.\n",
      "\n",
      "Your dog's name is Tyson.\n",
      "Your dog's age is 0.5 years old.\n",
      "Tyson rolled over!\n"
     ]
    }
   ],
   "source": [
    "my_dog = Dog('Rambo', 6)\n",
    "your_dog = Dog('Tyson', .5)\n",
    "\n",
    "print(f\"My dog's name is {my_dog.name}.\")                  #when calling instances no round brackets after\n",
    "print(f\"My dog is {my_dog.age} years old.\")\n",
    "my_dog.sit()                                               #called a method 'sit' from class 'Dog'.\n",
    "\n",
    "print(f\"\\nYour dog's name is {your_dog.name}.\")\n",
    "print(f\"Your dog's age is {your_dog.age} years old.\")\n",
    "your_dog.roll_over()                                        #called a method 'roll_over' from class 'Dog'."
   ]
  },
  {
   "cell_type": "code",
   "execution_count": 8,
   "id": "6a72d15c",
   "metadata": {},
   "outputs": [
    {
     "name": "stdout",
     "output_type": "stream",
     "text": [
      "Tyson is now sitting.\n"
     ]
    }
   ],
   "source": [
    "my_dog.sit()"
   ]
  },
  {
   "cell_type": "markdown",
   "id": "a4f9c1cc",
   "metadata": {},
   "source": [
    "## Example below"
   ]
  },
  {
   "cell_type": "markdown",
   "id": "bddd3974",
   "metadata": {},
   "source": [
    "### creating a Restraunt class"
   ]
  },
  {
   "cell_type": "code",
   "execution_count": 56,
   "id": "5d4c8b67",
   "metadata": {},
   "outputs": [],
   "source": [
    "class Restaurant:\n",
    "    \n",
    "    def __init__ (self, restaurant_name, cuisine_type):\n",
    "        self.restaurant_name = restaurant_name\n",
    "        self.cuisine_type = cuisine_type\n",
    "        \n",
    "    def describe_restaurant(self):\n",
    "        print(f\"\\nThe restaurant's name is {self.restaurant_name}.\")   #add self to access instance variables correctly\n",
    "        print(f\"The cuisine type offered is {self.cuisine_type}.\")\n",
    "    \n",
    "    def open_restaurant(self):\n",
    "        print(f\"The {self.restaurant_name} is now open!\")"
   ]
  },
  {
   "cell_type": "markdown",
   "id": "a430d880",
   "metadata": {},
   "source": [
    "### making an instance from a class"
   ]
  },
  {
   "cell_type": "code",
   "execution_count": 58,
   "id": "4c3de6ae",
   "metadata": {},
   "outputs": [],
   "source": [
    "restaurant = Restaurant('Desi Dhabha', 'Vegetarian')"
   ]
  },
  {
   "cell_type": "markdown",
   "id": "f8d5f2fe",
   "metadata": {},
   "source": [
    "### printing individual attributes"
   ]
  },
  {
   "cell_type": "code",
   "execution_count": 59,
   "id": "0a38045c",
   "metadata": {},
   "outputs": [
    {
     "name": "stdout",
     "output_type": "stream",
     "text": [
      "Restaurant Name: Desi Dhabha\n",
      "Cuisine Type: Vegetarian\n"
     ]
    }
   ],
   "source": [
    "print(f\"Restaurant Name: {restaurant.restaurant_name}\")\n",
    "print(f\"Cuisine Type: {restaurant.cuisine_type}\")"
   ]
  },
  {
   "cell_type": "markdown",
   "id": "30e18fce",
   "metadata": {},
   "source": [
    "### calling methods"
   ]
  },
  {
   "cell_type": "code",
   "execution_count": 62,
   "id": "4ecab886",
   "metadata": {},
   "outputs": [
    {
     "name": "stdout",
     "output_type": "stream",
     "text": [
      "\n",
      "The restaurant's name is Desi Dhabha.\n",
      "The cuisine type offered is Vegetarian.\n",
      "The Desi Dhabha is now open!\n"
     ]
    }
   ],
   "source": [
    "restaurant.describe_restaurant()\n",
    "restaurant.open_restaurant()"
   ]
  }
 ],
 "metadata": {
  "kernelspec": {
   "display_name": "Python 3 (ipykernel)",
   "language": "python",
   "name": "python3"
  },
  "language_info": {
   "codemirror_mode": {
    "name": "ipython",
    "version": 3
   },
   "file_extension": ".py",
   "mimetype": "text/x-python",
   "name": "python",
   "nbconvert_exporter": "python",
   "pygments_lexer": "ipython3",
   "version": "3.10.9"
  }
 },
 "nbformat": 4,
 "nbformat_minor": 5
}
