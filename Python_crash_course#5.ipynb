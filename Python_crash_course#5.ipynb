{
 "cells": [
  {
   "cell_type": "markdown",
   "id": "2fe9574e",
   "metadata": {},
   "source": [
    "# FUNCTIONS"
   ]
  },
  {
   "cell_type": "markdown",
   "id": "ad1d5995",
   "metadata": {},
   "source": [
    "## Learning outcomes\n",
    "- write functions and pass arguments\n",
    "- how to use positional and keyword arguments, and how to use arbitrary number of arguments\n",
    "- using functions with lists, dictionaries, if statements, and while loops.\n",
    "- storing functions in seperate files called modules\n",
    "- styling the functions so as they become structured and comprehensible"
   ]
  },
  {
   "cell_type": "code",
   "execution_count": null,
   "id": "3d36373e",
   "metadata": {},
   "outputs": [],
   "source": []
  }
 ],
 "metadata": {
  "kernelspec": {
   "display_name": "Python 3 (ipykernel)",
   "language": "python",
   "name": "python3"
  },
  "language_info": {
   "codemirror_mode": {
    "name": "ipython",
    "version": 3
   },
   "file_extension": ".py",
   "mimetype": "text/x-python",
   "name": "python",
   "nbconvert_exporter": "python",
   "pygments_lexer": "ipython3",
   "version": "3.10.9"
  }
 },
 "nbformat": 4,
 "nbformat_minor": 5
}
