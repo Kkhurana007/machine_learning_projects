{
 "cells": [
  {
   "cell_type": "markdown",
   "id": "3de533e6",
   "metadata": {},
   "source": [
    "# FUNCTIONS"
   ]
  },
  {
   "cell_type": "markdown",
   "id": "d963e9f3",
   "metadata": {},
   "source": [
    "## Learning outcomes\n",
    "- write functions and pass arguments\n",
    "- how to use positional and keyword arguments, and how to use arbitrary number of arguments\n",
    "- using functions with lists, dictionaries, if statements, and while loops.\n",
    "- storing functions in seperate files called modules\n",
    "- styling the functions so as they become structured and comprehensible"
   ]
  },
  {
   "cell_type": "markdown",
   "id": "6709a4a2",
   "metadata": {},
   "source": [
    "### Remarks-\n",
    "1. If you’re writing a function and notice the function is doing too many different tasks, try to split the code into two functions.\n",
    "2. \n"
   ]
  },
  {
   "cell_type": "markdown",
   "id": "b0bb14e0",
   "metadata": {},
   "source": [
    "### Arguments and parameters"
   ]
  },
  {
   "cell_type": "code",
   "execution_count": 2,
   "id": "2fe1c439",
   "metadata": {},
   "outputs": [
    {
     "name": "stdout",
     "output_type": "stream",
     "text": [
      "Hello!\n"
     ]
    }
   ],
   "source": [
    "# greet_user\n",
    "\n",
    "def greet_user():\n",
    "    print(\"Hello!\")\n",
    "\n",
    "#calling\n",
    "greet_user()"
   ]
  },
  {
   "cell_type": "code",
   "execution_count": 4,
   "id": "c244b91d",
   "metadata": {},
   "outputs": [
    {
     "name": "stdout",
     "output_type": "stream",
     "text": [
      "Hello, Kunal!\n"
     ]
    }
   ],
   "source": [
    "# passing information to the function\n",
    "\n",
    "def greet_user(username):    #username would accept the value that i provide\n",
    "    print(f\"Hello, {username.title()}!\")\n",
    "    \n",
    "# calling with username \n",
    "greet_user('kunal')  #don't forget to call the function as string"
   ]
  },
  {
   "cell_type": "code",
   "execution_count": 5,
   "id": "79165db1",
   "metadata": {},
   "outputs": [
    {
     "name": "stdout",
     "output_type": "stream",
     "text": [
      "Hope you are feeling energized this monday, and you enjoyed your weekend well. I'm curious about Your Prepration For The Maths Test!!!\n"
     ]
    }
   ],
   "source": [
    "# practice\n",
    "def display_message(content):\n",
    "    print(f\"Hope you are feeling energized this monday, and you enjoyed your weekend well. I'm curious about {content. title()}!\")\n",
    "    \n",
    "# calling\n",
    "display_message(\"your prepration for the maths test!!\")\n",
    "\n"
   ]
  },
  {
   "cell_type": "code",
   "execution_count": 9,
   "id": "6bc3ea89",
   "metadata": {},
   "outputs": [
    {
     "name": "stdout",
     "output_type": "stream",
     "text": [
      "I've a Bruno at home!\n",
      "Bruno belongs to German Shephard breed.\n"
     ]
    }
   ],
   "source": [
    "# pets\n",
    "def describe_pet(name, breed):        #no inverted commas here\n",
    "    print(f\"I've a {name.title()} at home!\")\n",
    "    print(f\"{name.title()} belongs to {breed.title()} breed.\")\n",
    "    \n",
    "# calling\n",
    "describe_pet('bruno', 'german shephard')"
   ]
  },
  {
   "cell_type": "code",
   "execution_count": 10,
   "id": "a70b4eac",
   "metadata": {},
   "outputs": [
    {
     "name": "stdout",
     "output_type": "stream",
     "text": [
      "I've a Ravi at home!\n",
      "Ravi belongs to Husky breed.\n"
     ]
    }
   ],
   "source": [
    "describe_pet('ravi', 'husky')"
   ]
  },
  {
   "cell_type": "code",
   "execution_count": 12,
   "id": "029dd4af",
   "metadata": {},
   "outputs": [
    {
     "name": "stdout",
     "output_type": "stream",
     "text": [
      "I've a Bruno at home!\n",
      "Bruno belongs to Husky breed.\n"
     ]
    }
   ],
   "source": [
    "### default values for parameters\n",
    "# pets\n",
    "def describe_pet(name, breed = 'husky'):        \n",
    "    print(f\"I've a {name.title()} at home!\")\n",
    "    print(f\"{name.title()} belongs to {breed.title()} breed.\")\n",
    "    \n",
    "# calling\n",
    "describe_pet('bruno')  #by default the breed is husky!"
   ]
  },
  {
   "cell_type": "markdown",
   "id": "63db38a6",
   "metadata": {},
   "source": [
    "### Returning values"
   ]
  },
  {
   "cell_type": "code",
   "execution_count": 26,
   "id": "6bd0f87f",
   "metadata": {},
   "outputs": [
    {
     "name": "stdout",
     "output_type": "stream",
     "text": [
      "Hardy Singh Sandhu\n"
     ]
    }
   ],
   "source": [
    "def get_formatted_name(first_name, middle_name, last_name):\n",
    "    \"Return a full name, neatly formatted.\"\n",
    "    full_name = f\"{first_name} {middle_name} {last_name}\"\n",
    "    return full_name.title()\n",
    "titre = get_formatted_name ('hardy', 'singh' , 'sandhu')\n",
    "print(titre)"
   ]
  },
  {
   "cell_type": "markdown",
   "id": "79025d91",
   "metadata": {},
   "source": [
    "### Returning dictionaries"
   ]
  },
  {
   "cell_type": "code",
   "execution_count": 29,
   "id": "dbf9f295",
   "metadata": {},
   "outputs": [
    {
     "name": "stdout",
     "output_type": "stream",
     "text": [
      "{'first': 'jimi', 'last': 'hendrix', 'age': 27}\n"
     ]
    }
   ],
   "source": [
    "def build_person(first_name, last_name, age = None):\n",
    "    person = {'first' : first_name, 'last' : last_name}\n",
    "    if age:                             # assigns a particular age to the group\n",
    "        person['age'] = age\n",
    "    return person\n",
    "\n",
    "titre = build_person('jimi', 'hendrix', age = 27)\n",
    "print(titre)"
   ]
  },
  {
   "cell_type": "markdown",
   "id": "7014aa3f",
   "metadata": {},
   "source": [
    "### Using a function with a while loop"
   ]
  },
  {
   "cell_type": "code",
   "execution_count": null,
   "id": "f18668a3",
   "metadata": {},
   "outputs": [],
   "source": [
    "def get_formatted_name(first_name, last_name):\n",
    "    \"Return a full name, neatly formatted.\"\n",
    "    full_name = f\"{first_name} {last_name}\"\n",
    "    return full_name.title()\n",
    "\n",
    "# infinite loop\n",
    "while True:\n",
    "    print(\"\\nPlease tell me your name:\")\n",
    "    f_name = input(\"First name: \")\n",
    "    l_name = input(\"Last name: \")\n",
    "    \n",
    "    formatted_name = get_formatted_name(f_name, l_name)\n",
    "    print(f\"\\nHello, {formatted_name}!\")"
   ]
  },
  {
   "cell_type": "code",
   "execution_count": 31,
   "id": "724d35e2",
   "metadata": {},
   "outputs": [
    {
     "name": "stdout",
     "output_type": "stream",
     "text": [
      "\n",
      "Please tell me your name:\n",
      "(enter 'q' at any time to qutit)\n",
      "First name: Kunal\n",
      "Last name: Khurana\n",
      "\n",
      "Hello, Kunal Khurana!\n",
      "\n",
      "Please tell me your name:\n",
      "(enter 'q' at any time to qutit)\n",
      "First name: q\n"
     ]
    }
   ],
   "source": [
    "def get_formatted_name(first_name, last_name):\n",
    "    \"Return a full name, neatly formatted.\"\n",
    "    full_name = f\"{first_name} {last_name}\"\n",
    "    return full_name.title()\n",
    "\n",
    "# adding break to stop the loop\n",
    "while True:\n",
    "    print(\"\\nPlease tell me your name:\")\n",
    "    print(\"(enter 'q' at any time to qutit)\")\n",
    "    \n",
    "    f_name = input(\"First name: \")\n",
    "    if f_name == 'q':\n",
    "        break\n",
    "        \n",
    "    l_name = input(\"Last name: \")\n",
    "    if l_name == 'q':\n",
    "        break\n",
    "    \n",
    "    formatted_name = get_formatted_name(f_name, l_name)\n",
    "    print(f\"\\nHello, {formatted_name}!\")"
   ]
  },
  {
   "cell_type": "code",
   "execution_count": null,
   "id": "4d21d6bf",
   "metadata": {},
   "outputs": [],
   "source": [
    "# capital, country\n",
    "\n",
    "def get_capital_country (capital, country):\n",
    "    cap_c = f\"{capital} {country}\"\n",
    "    return cap_C.title()\n",
    "\n",
    "while True:\n",
    "    print(\"\\nPlease print capital name and country name)\n",
    "    print(\"enter q anytime to quit\")\n",
    "          \n",
    "    capital = input(\"Capital name : \")\n",
    "    if capital == 'q':\n",
    "          break\n",
    "    \n",
    "    country = input(\"Country name : \")\n",
    "    if country == 'q':\n",
    "          break\n"
   ]
  },
  {
   "cell_type": "code",
   "execution_count": 37,
   "id": "a9760e37",
   "metadata": {},
   "outputs": [
    {
     "name": "stdout",
     "output_type": "stream",
     "text": [
      "\n",
      "The name of the city and capital are-\n",
      "Newyork, United States\n",
      "Delhi, India\n",
      "\n",
      "The name of the city and capital are-\n",
      "Newyork, United States\n",
      "Delhi, India\n",
      "\n",
      "The name of the city and capital are-\n",
      "Newyork, United States\n",
      "Delhi, India\n",
      "loop has ended\n"
     ]
    }
   ],
   "source": [
    "# city_country\n",
    "def city_country (city, country):\n",
    "    formatted_string = f\"{city.title()}, {country.title()}\"\n",
    "    return formatted_string\n",
    "# INFINITE LOOPL; HOW TO STOP\n",
    "\n",
    "count = 0\n",
    "while count < 3:\n",
    "    print(\"\\nThe name of the city and capital are-\")\n",
    "    print(city_country('newyork', 'united states'))\n",
    "    print(city_country('delhi', 'india'))\n",
    "    count += 1 #increment the count\n",
    "\n",
    "print (\"loop has ended\")"
   ]
  },
  {
   "cell_type": "markdown",
   "id": "d5b19207",
   "metadata": {},
   "source": [
    "### Modifying the list in a function"
   ]
  },
  {
   "cell_type": "code",
   "execution_count": 45,
   "id": "b9f6da2f",
   "metadata": {},
   "outputs": [
    {
     "name": "stdout",
     "output_type": "stream",
     "text": [
      "Printing model: accord\n",
      "Printing model: lancer\n",
      "Printing model: ferrari\n",
      "\n",
      "The following models have been printed:\n",
      "accord\n",
      "lancer\n",
      "ferrari\n"
     ]
    }
   ],
   "source": [
    "def print_models(unprinted_designs, completed_models):  #defining with two parameters\n",
    "    while unprinted_designs:\n",
    "        current_design = unprinted_designs.pop()\n",
    "        print(f\"Printing model: {current_design}\")\n",
    "        completed_models.append(current_design)\n",
    "        \n",
    "def show_completed_models(completed_models):           #defining with one parameter\n",
    "    print(\"\\nThe following models have been printed:\")\n",
    "    for completed_model in completed_models:\n",
    "        print(completed_model)\n",
    "        \n",
    "unprinted_designs = ['ferrari', 'lancer', 'accord']\n",
    "completed_models = []\n",
    "\n",
    "print_models(unprinted_designs, completed_models)     #don't forget to print\n",
    "show_completed_models(completed_models)\n"
   ]
  },
  {
   "cell_type": "code",
   "execution_count": 46,
   "id": "1b731971",
   "metadata": {},
   "outputs": [
    {
     "name": "stdout",
     "output_type": "stream",
     "text": [
      "\n",
      "The following models have been printed:\n",
      "accord\n",
      "lancer\n",
      "ferrari\n"
     ]
    }
   ],
   "source": [
    "\n",
    "print_models(unprinted_designs[:], completed_models)     #[:] will save a copy to the old list\n",
    "show_completed_models(completed_models)\n"
   ]
  },
  {
   "cell_type": "markdown",
   "id": "6754619d",
   "metadata": {},
   "source": [
    "### passing an arbitrary number of arguments"
   ]
  },
  {
   "cell_type": "code",
   "execution_count": 48,
   "id": "4ec33bcd",
   "metadata": {},
   "outputs": [
    {
     "name": "stdout",
     "output_type": "stream",
     "text": [
      "('pepperoni',)\n",
      "('mushrooms', 'green peppers', 'extra cheese')\n"
     ]
    }
   ],
   "source": [
    "def make_pizza(*toppings):\n",
    "    print(toppings)#prints requested toppings\n",
    "    \n",
    "make_pizza('pepperoni')\n",
    "make_pizza('mushrooms', 'green peppers', 'extra cheese')\n",
    "\n"
   ]
  },
  {
   "cell_type": "markdown",
   "id": "ee49b57b",
   "metadata": {},
   "source": [
    "The asterisk in the parameter name *toppings tells Python to make an empty tuple called toppings and pack whatever values it receives into this tuple."
   ]
  },
  {
   "cell_type": "code",
   "execution_count": 50,
   "id": "019fccd6",
   "metadata": {},
   "outputs": [
    {
     "name": "stdout",
     "output_type": "stream",
     "text": [
      "\n",
      "Make the pizza with following toppings-\n",
      "-pepperoni\n",
      "\n",
      "Make the pizza with following toppings-\n",
      "-mushrooms\n",
      "-green peppers\n",
      "-extra cheese\n"
     ]
    }
   ],
   "source": [
    "def make_pizza(*toppings):\n",
    "    print(\"\\nMake the pizza with following toppings-\")\n",
    "    for topping in toppings:\n",
    "        print(f\"-{topping}\")\n",
    "    \n",
    "make_pizza('pepperoni')\n",
    "make_pizza('mushrooms', 'green peppers', 'extra cheese')"
   ]
  },
  {
   "cell_type": "code",
   "execution_count": 52,
   "id": "761e86ef",
   "metadata": {},
   "outputs": [
    {
     "name": "stdout",
     "output_type": "stream",
     "text": [
      "\n",
      "Make a 12-inch pizza with the following toppings-\n",
      "-pepperoni\n",
      "\n",
      "Make a 16-inch pizza with the following toppings-\n",
      "-mushrooms\n",
      "-green peppers\n",
      "-extra cheese\n"
     ]
    }
   ],
   "source": [
    "### adding an additional paramter 'size'\n",
    "def make_pizza(size, *toppings):\n",
    "    print(f\"\\nMake a {size}-inch pizza with the following toppings-\")\n",
    "    for topping in toppings:\n",
    "        print(f\"-{topping}\")\n",
    "    \n",
    "make_pizza(12, 'pepperoni')\n",
    "make_pizza(16, 'mushrooms', 'green peppers', 'extra cheese')\n",
    "\n"
   ]
  },
  {
   "cell_type": "markdown",
   "id": "cf18e171",
   "metadata": {},
   "source": [
    "### Using arbitrary keyword arguments\n",
    "1.  (**) before user_info allows the function to accept any number of keyword arguments and store them as key-value pairs in a dictionary called user_info."
   ]
  },
  {
   "cell_type": "code",
   "execution_count": 59,
   "id": "1cc0bfa5",
   "metadata": {},
   "outputs": [
    {
     "name": "stdout",
     "output_type": "stream",
     "text": [
      "{'location': 'montréal', 'field': 'agirculture', 'first_name': 'Kunal', 'last_name': 'Khurana'}\n"
     ]
    }
   ],
   "source": [
    "def user_profile(first, last, **user_info):   \n",
    "    user_info['first_name'] = first   \n",
    "    user_info['last_name'] = last\n",
    "    return user_info\n",
    "\n",
    "more_info = user_profile('Kunal', 'Khurana', \n",
    "                         location= 'montréal', \n",
    "                         field= 'agirculture')\n",
    " \n",
    "print(more_info)"
   ]
  },
  {
   "cell_type": "markdown",
   "id": "e6ed7438",
   "metadata": {},
   "source": [
    "### Storing functions in modules\n",
    "1. module import- writing a code and storing it somewhere; simply importing it and using it. \n",
    "    e.g.- from maths import stats\n",
    "2. generally written as module_name.function_name()\n",
    "3. may be used to import as many funcitons as needed, simply seperating them by comma. \n",
    "      e.g.- from module_name import function_0, function_1, fucntion_2\n",
    "4. an alias can be provided to make the process simpler\n",
    "    e.g.- from pizza import make_pizza as mp. \n",
    "    This would save us some time while writing the code\n",
    "5. we may also import all the functions from modules also with asterik(*)\n",
    "    e.g.- from pizza import *"
   ]
  }
 ],
 "metadata": {
  "kernelspec": {
   "display_name": "Python 3 (ipykernel)",
   "language": "python",
   "name": "python3"
  },
  "language_info": {
   "codemirror_mode": {
    "name": "ipython",
    "version": 3
   },
   "file_extension": ".py",
   "mimetype": "text/x-python",
   "name": "python",
   "nbconvert_exporter": "python",
   "pygments_lexer": "ipython3",
   "version": "3.10.9"
  }
 },
 "nbformat": 4,
 "nbformat_minor": 5
}
