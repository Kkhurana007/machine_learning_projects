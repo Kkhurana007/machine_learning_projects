{
 "cells": [
  {
   "cell_type": "markdown",
   "id": "c2ac790f",
   "metadata": {},
   "source": [
    "# Files and exceptions"
   ]
  },
  {
   "cell_type": "markdown",
   "id": "dad07128",
   "metadata": {},
   "source": [
    "### Learning outcomes-\n",
    "1. working with files (reading entire files or its contents)\n",
    "2. write a file and append text into the file\n",
    "3. exceptions and handling those\n",
    "4. Python data structures\n",
    "5. 'json' module- saves the data when program stops running"
   ]
  },
  {
   "cell_type": "markdown",
   "id": "8aa6834a",
   "metadata": {},
   "source": [
    "### Remarks*-\n",
    "1. open() function is used to read a file. \n",
    "2. Windows systems use a backslash (\\\\) instead of a forward slash (/) when displaying file paths, but you can still use forward slashes in your code.\n"
   ]
  },
  {
   "cell_type": "markdown",
   "id": "566aaf69",
   "metadata": {},
   "source": [
    "## Reading a file"
   ]
  },
  {
   "cell_type": "code",
   "execution_count": 19,
   "id": "a3803678",
   "metadata": {},
   "outputs": [
    {
     "name": "stdout",
     "output_type": "stream",
     "text": [
      "I love programming.\n",
      "\n",
      "I love creating new games.\n",
      "\n",
      "I also love finding meaning in the large datasets.\n",
      "\n",
      "I want to create an application with python.\n",
      "\n"
     ]
    }
   ],
   "source": [
    "file_path = \"E:\\\\machine learning projects\\\\python.txt\"\n",
    "with open (file_path) as file_object:  \n",
    "    for line in file_object:\n",
    "        print(line)"
   ]
  },
  {
   "cell_type": "code",
   "execution_count": 3,
   "id": "e0b96c9b",
   "metadata": {},
   "outputs": [
    {
     "name": "stdout",
     "output_type": "stream",
     "text": [
      "I love programming.\n"
     ]
    }
   ],
   "source": [
    "# stripping extra lines\n",
    "file_path = \"E:\\\\machine learning projects\\\\python.txt\"\n",
    "with open (file_path) as file_object:  \n",
    "    for line in file_object:\n",
    "        print(line.rstrip())"
   ]
  },
  {
   "cell_type": "markdown",
   "id": "067149c1",
   "metadata": {},
   "source": [
    "### making a list of lines from a file"
   ]
  },
  {
   "cell_type": "code",
   "execution_count": 15,
   "id": "0b6293a0",
   "metadata": {},
   "outputs": [
    {
     "name": "stdout",
     "output_type": "stream",
     "text": [
      "This file contains text that will be viewed in python's crash_course#7!\n",
      "\n",
      "there is some white space in between!\n"
     ]
    }
   ],
   "source": [
    "with open (file_path) as file_object:  \n",
    "    lines = file_object.readlines()    #we used readlines method\n",
    "    \n",
    "for line in lines:\n",
    "    print(line.rstrip())\n",
    "        "
   ]
  },
  {
   "cell_type": "markdown",
   "id": "ab83d4fc",
   "metadata": {},
   "source": [
    "### working with file's contents"
   ]
  },
  {
   "cell_type": "code",
   "execution_count": 16,
   "id": "3bde4479",
   "metadata": {},
   "outputs": [
    {
     "name": "stdout",
     "output_type": "stream",
     "text": [
      "This file contains text that will be viewed in python's crash_course#7!there is some white space in between!\n",
      "108\n"
     ]
    }
   ],
   "source": [
    "pi_string = ''\n",
    "for line in lines:\n",
    "    pi_string += line.rstrip() \n",
    "    \n",
    "print(pi_string)\n",
    "print(len(pi_string))"
   ]
  },
  {
   "cell_type": "code",
   "execution_count": 19,
   "id": "143b8f60",
   "metadata": {},
   "outputs": [
    {
     "name": "stdout",
     "output_type": "stream",
     "text": [
      "This file contains text that will be viewed in python's crash_course#7!  there is some white space in between! \n",
      "111\n"
     ]
    }
   ],
   "source": [
    "pi_string = ''\n",
    "for line in lines:\n",
    "    pi_string += line.rstrip() + ' '  #adding a space in between lines\n",
    "    \n",
    "print(pi_string)\n",
    "print(len(pi_string))"
   ]
  },
  {
   "cell_type": "code",
   "execution_count": 21,
   "id": "ff791973",
   "metadata": {},
   "outputs": [
    {
     "name": "stdout",
     "output_type": "stream",
     "text": [
      "This file contains text that will be viewed in python's crash_course#7!\n",
      "\n",
      "there is some white space in between!\n",
      "\n",
      "111\n"
     ]
    }
   ],
   "source": [
    "any_string = ''\n",
    "for line in lines:\n",
    "    any_string += line.rstrip() + '\\n'  #similarly, adding a line in between lines\n",
    "    \n",
    "print(any_string)\n",
    "print(len(any_string))"
   ]
  },
  {
   "cell_type": "code",
   "execution_count": 22,
   "id": "14d5b2c4",
   "metadata": {},
   "outputs": [
    {
     "name": "stdout",
     "output_type": "stream",
     "text": [
      "This file contains text that will be viewed in pytho...\n",
      "111\n"
     ]
    }
   ],
   "source": [
    "any_string = ''\n",
    "for line in lines:\n",
    "    any_string += line.rstrip() + '\\n'  #similarly, adding a line in between lines\n",
    "    \n",
    "print(f\"{any_string[:52]}...\")         #prints first 52 characters\n",
    "print(len(any_string))"
   ]
  },
  {
   "cell_type": "markdown",
   "id": "270579bb",
   "metadata": {},
   "source": [
    "## Writing into a File"
   ]
  },
  {
   "cell_type": "code",
   "execution_count": 17,
   "id": "a670ab42",
   "metadata": {},
   "outputs": [],
   "source": [
    "\n",
    "with open ('python.txt', 'w') as file_object:\n",
    "    file_object.write(\"I love programming.\\n\")\n",
    "    file_object.write(\"I love creating new games.\\n\")\n"
   ]
  },
  {
   "cell_type": "markdown",
   "id": "54d44696",
   "metadata": {},
   "source": [
    "## Appending to a File"
   ]
  },
  {
   "cell_type": "code",
   "execution_count": 18,
   "id": "7dc10004",
   "metadata": {},
   "outputs": [],
   "source": [
    "with open (\"python.txt\", 'a') as file_object:  # adding content\n",
    "    file_object.write(\"I also love finding meaning in the large datasets.\\n\")\n",
    "    file_object.write(\"I want to create an application with python.\\n\")"
   ]
  },
  {
   "cell_type": "markdown",
   "id": "cbe49709",
   "metadata": {},
   "source": [
    "### Some examples"
   ]
  },
  {
   "cell_type": "code",
   "execution_count": 22,
   "id": "e48a994b",
   "metadata": {},
   "outputs": [
    {
     "name": "stdout",
     "output_type": "stream",
     "text": [
      "Please enter your name: Rahul\n",
      "Thank you! Your name has been written to guest.txt.\n"
     ]
    }
   ],
   "source": [
    "# Prompt the user for their name\n",
    "name = input(\"Please enter your name: \")\n",
    "\n",
    "# Open the file in write mode and write the name to it\n",
    "with open(\"guest.txt\", \"w\") as file:\n",
    "    file.write(name)\n",
    "\n",
    "print(\"Thank you! Your name has been written to guest.txt.\")\n"
   ]
  },
  {
   "cell_type": "code",
   "execution_count": 28,
   "id": "32cdfab1",
   "metadata": {},
   "outputs": [
    {
     "name": "stdout",
     "output_type": "stream",
     "text": [
      "RahulKunal\n",
      "\n",
      "Rahul\n",
      "\n",
      "Kriti\n",
      "\n",
      "Megha\n",
      "\n",
      "Soumiksha\n",
      "\n",
      "Roshni\n",
      "\n",
      "Sridevi\n",
      "\n",
      "jatin\n",
      "\n",
      "sakshi\n",
      "\n"
     ]
    }
   ],
   "source": [
    "# reading the above file\n",
    "file_path = \"E:\\\\machine learning projects\\\\guest.txt\"\n",
    "with open (file_path) as file_object:  \n",
    "    for line in file_object:\n",
    "        print(line)"
   ]
  },
  {
   "cell_type": "code",
   "execution_count": 27,
   "id": "0db91139",
   "metadata": {},
   "outputs": [
    {
     "name": "stdout",
     "output_type": "stream",
     "text": [
      "Please enter your name (or 'q' to quit): jatin\n",
      "Please enter your name (or 'q' to quit): sakshi\n",
      "Please enter your name (or 'q' to quit): q\n",
      "Thank you! Your names have been added to guest.txt.\n"
     ]
    }
   ],
   "source": [
    "# using while and break to store more names\n",
    "while True:\n",
    "    # Prompt the user for their name\n",
    "    name = input(\"Please enter your name (or 'q' to quit): \")\n",
    "\n",
    "    if name.lower() == 'q':\n",
    "        break\n",
    "\n",
    "    # Open the file in append mode and write the name to it\n",
    "    with open(\"guest.txt\", \"a\") as file:\n",
    "        file.write(name + '\\n')\n",
    "\n",
    "print(\"Thank you! Your names have been added to guest.txt.\")\n"
   ]
  },
  {
   "cell_type": "markdown",
   "id": "cf8a26e9",
   "metadata": {},
   "source": [
    "#### Using while and break loop to ask people why they like programming"
   ]
  },
  {
   "cell_type": "code",
   "execution_count": 34,
   "id": "c253f70b",
   "metadata": {},
   "outputs": [
    {
     "name": "stdout",
     "output_type": "stream",
     "text": [
      "Please enter your name  hogaya abhi\n",
      "why do you like programming? (or 'q' to quit): q\n",
      "Thank you! Your names have been added to programming.txt.\n"
     ]
    }
   ],
   "source": [
    "\n",
    "# using while and break to store more names\n",
    "while True:\n",
    "    # Prompt the user for their name\n",
    "    name = input(\"Please enter your name  \")\n",
    "    detail = input(\"why do you like programming? (or 'q' to quit): \")\n",
    "\n",
    "    if detail.lower() == 'q':\n",
    "        break\n",
    "\n",
    "    # Open the file in append mode and write the name to it\n",
    "    with open(\"programming.txt\", \"a\") as file:\n",
    "        file.write(name + detail + '\\n')\n",
    "\n",
    "print(\"Thank you! Your names have been added to programming.txt.\")"
   ]
  },
  {
   "cell_type": "code",
   "execution_count": 36,
   "id": "e4d68d8e",
   "metadata": {},
   "outputs": [
    {
     "name": "stdout",
     "output_type": "stream",
     "text": [
      "I want to analyse big data and make an applicaiton\n",
      "\n",
      "I want to solve complex mathematical problems\n",
      "\n",
      "i am passionate about learning new things\n",
      "\n",
      "data analysis and deep learning\n",
      "\n",
      "help vishal with complex analysis\n",
      "\n",
      "online collaborations\n",
      "\n"
     ]
    }
   ],
   "source": [
    "# reading the above file\n",
    "file_path = \"E:\\\\machine learning projects\\\\programming.txt\"\n",
    "with open (file_path) as file_object:  \n",
    "    for line in file_object:\n",
    "        print(line)"
   ]
  },
  {
   "cell_type": "markdown",
   "id": "38f37997",
   "metadata": {},
   "source": [
    "## Exceptions"
   ]
  },
  {
   "cell_type": "code",
   "execution_count": 40,
   "id": "ba5f95e4",
   "metadata": {},
   "outputs": [
    {
     "ename": "ZeroDivisionError",
     "evalue": "division by zero",
     "output_type": "error",
     "traceback": [
      "\u001b[1;31m---------------------------------------------------------------------------\u001b[0m",
      "\u001b[1;31mZeroDivisionError\u001b[0m                         Traceback (most recent call last)",
      "Cell \u001b[1;32mIn[40], line 1\u001b[0m\n\u001b[1;32m----> 1\u001b[0m \u001b[38;5;241m5\u001b[39m\u001b[38;5;241m/\u001b[39m\u001b[38;5;241m0\u001b[39m\n",
      "\u001b[1;31mZeroDivisionError\u001b[0m: division by zero"
     ]
    }
   ],
   "source": [
    "5/0"
   ]
  },
  {
   "cell_type": "code",
   "execution_count": 42,
   "id": "1bd69156",
   "metadata": {},
   "outputs": [],
   "source": [
    "# using try-except block to handle this kind of error"
   ]
  },
  {
   "cell_type": "code",
   "execution_count": 46,
   "id": "447d550a",
   "metadata": {},
   "outputs": [
    {
     "name": "stdout",
     "output_type": "stream",
     "text": [
      "Error: You can't divide by zero!\n"
     ]
    }
   ],
   "source": [
    "try:\n",
    "    print(5/0)           #contains the code that we wish to try\n",
    "except ZeroDivisionError:\n",
    "    print(\"Error: You can't divide by zero!\")\n"
   ]
  },
  {
   "cell_type": "code",
   "execution_count": null,
   "id": "47a6b42e",
   "metadata": {},
   "outputs": [],
   "source": []
  }
 ],
 "metadata": {
  "kernelspec": {
   "display_name": "Python 3 (ipykernel)",
   "language": "python",
   "name": "python3"
  },
  "language_info": {
   "codemirror_mode": {
    "name": "ipython",
    "version": 3
   },
   "file_extension": ".py",
   "mimetype": "text/x-python",
   "name": "python",
   "nbconvert_exporter": "python",
   "pygments_lexer": "ipython3",
   "version": "3.11.5"
  }
 },
 "nbformat": 4,
 "nbformat_minor": 5
}
