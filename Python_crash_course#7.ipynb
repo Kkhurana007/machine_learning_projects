{
 "cells": [
  {
   "cell_type": "markdown",
   "id": "c2ac790f",
   "metadata": {},
   "source": [
    "# Files and exceptions"
   ]
  },
  {
   "cell_type": "markdown",
   "id": "dad07128",
   "metadata": {},
   "source": [
    "### Learning outcomes-\n",
    "1. working with files (reading entire files or its contents)\n",
    "2. write a file and append text into the file\n",
    "3. exceptions and handling those\n",
    "4. Python data structures\n",
    "5. 'json' module- saves the data when program stops running"
   ]
  },
  {
   "cell_type": "markdown",
   "id": "8aa6834a",
   "metadata": {},
   "source": [
    "### Remarks*-\n",
    "1. open() function is used to read a file. \n",
    "2. Windows systems use a backslash (\\\\) instead of a forward slash (/) when displaying file paths, but you can still use forward slashes in your code.\n",
    "3. The 'pass' statement acts as a placeholder- used to pass on to the next step indicating - 'silent failing'."
   ]
  },
  {
   "cell_type": "markdown",
   "id": "566aaf69",
   "metadata": {},
   "source": [
    "## Reading a file"
   ]
  },
  {
   "cell_type": "code",
   "execution_count": 19,
   "id": "a3803678",
   "metadata": {},
   "outputs": [
    {
     "name": "stdout",
     "output_type": "stream",
     "text": [
      "I love programming.\n",
      "\n",
      "I love creating new games.\n",
      "\n",
      "I also love finding meaning in the large datasets.\n",
      "\n",
      "I want to create an application with python.\n",
      "\n"
     ]
    }
   ],
   "source": [
    "file_path = \"E:\\\\machine learning projects\\\\python.txt\"\n",
    "with open (file_path) as file_object:  \n",
    "    for line in file_object:\n",
    "        print(line)"
   ]
  },
  {
   "cell_type": "code",
   "execution_count": 3,
   "id": "e0b96c9b",
   "metadata": {},
   "outputs": [
    {
     "name": "stdout",
     "output_type": "stream",
     "text": [
      "I love programming.\n"
     ]
    }
   ],
   "source": [
    "# stripping extra lines\n",
    "file_path = \"E:\\\\machine learning projects\\\\python.txt\"\n",
    "with open (file_path) as file_object:  \n",
    "    for line in file_object:\n",
    "        print(line.rstrip())"
   ]
  },
  {
   "cell_type": "markdown",
   "id": "067149c1",
   "metadata": {},
   "source": [
    "### making a list of lines from a file"
   ]
  },
  {
   "cell_type": "code",
   "execution_count": 15,
   "id": "0b6293a0",
   "metadata": {},
   "outputs": [
    {
     "name": "stdout",
     "output_type": "stream",
     "text": [
      "This file contains text that will be viewed in python's crash_course#7!\n",
      "\n",
      "there is some white space in between!\n"
     ]
    }
   ],
   "source": [
    "with open (file_path) as file_object:  \n",
    "    lines = file_object.readlines()    #we used readlines method\n",
    "    \n",
    "for line in lines:\n",
    "    print(line.rstrip())\n",
    "        "
   ]
  },
  {
   "cell_type": "markdown",
   "id": "ab83d4fc",
   "metadata": {},
   "source": [
    "### working with file's contents"
   ]
  },
  {
   "cell_type": "code",
   "execution_count": 16,
   "id": "3bde4479",
   "metadata": {},
   "outputs": [
    {
     "name": "stdout",
     "output_type": "stream",
     "text": [
      "This file contains text that will be viewed in python's crash_course#7!there is some white space in between!\n",
      "108\n"
     ]
    }
   ],
   "source": [
    "pi_string = ''\n",
    "for line in lines:\n",
    "    pi_string += line.rstrip() \n",
    "    \n",
    "print(pi_string)\n",
    "print(len(pi_string))"
   ]
  },
  {
   "cell_type": "code",
   "execution_count": 19,
   "id": "143b8f60",
   "metadata": {},
   "outputs": [
    {
     "name": "stdout",
     "output_type": "stream",
     "text": [
      "This file contains text that will be viewed in python's crash_course#7!  there is some white space in between! \n",
      "111\n"
     ]
    }
   ],
   "source": [
    "pi_string = ''\n",
    "for line in lines:\n",
    "    pi_string += line.rstrip() + ' '  #adding a space in between lines\n",
    "    \n",
    "print(pi_string)\n",
    "print(len(pi_string))"
   ]
  },
  {
   "cell_type": "code",
   "execution_count": 21,
   "id": "ff791973",
   "metadata": {},
   "outputs": [
    {
     "name": "stdout",
     "output_type": "stream",
     "text": [
      "This file contains text that will be viewed in python's crash_course#7!\n",
      "\n",
      "there is some white space in between!\n",
      "\n",
      "111\n"
     ]
    }
   ],
   "source": [
    "any_string = ''\n",
    "for line in lines:\n",
    "    any_string += line.rstrip() + '\\n'  #similarly, adding a line in between lines\n",
    "    \n",
    "print(any_string)\n",
    "print(len(any_string))"
   ]
  },
  {
   "cell_type": "code",
   "execution_count": 22,
   "id": "14d5b2c4",
   "metadata": {},
   "outputs": [
    {
     "name": "stdout",
     "output_type": "stream",
     "text": [
      "This file contains text that will be viewed in pytho...\n",
      "111\n"
     ]
    }
   ],
   "source": [
    "any_string = ''\n",
    "for line in lines:\n",
    "    any_string += line.rstrip() + '\\n'  #similarly, adding a line in between lines\n",
    "    \n",
    "print(f\"{any_string[:52]}...\")         #prints first 52 characters\n",
    "print(len(any_string))"
   ]
  },
  {
   "cell_type": "markdown",
   "id": "270579bb",
   "metadata": {},
   "source": [
    "## Writing into a File"
   ]
  },
  {
   "cell_type": "code",
   "execution_count": 17,
   "id": "a670ab42",
   "metadata": {},
   "outputs": [],
   "source": [
    "\n",
    "with open ('python.txt', 'w') as file_object:\n",
    "    file_object.write(\"I love programming.\\n\")\n",
    "    file_object.write(\"I love creating new games.\\n\")\n"
   ]
  },
  {
   "cell_type": "markdown",
   "id": "54d44696",
   "metadata": {},
   "source": [
    "## Appending to a File"
   ]
  },
  {
   "cell_type": "code",
   "execution_count": 18,
   "id": "7dc10004",
   "metadata": {},
   "outputs": [],
   "source": [
    "with open (\"python.txt\", 'a') as file_object:  # adding content\n",
    "    file_object.write(\"I also love finding meaning in the large datasets.\\n\")\n",
    "    file_object.write(\"I want to create an application with python.\\n\")"
   ]
  },
  {
   "cell_type": "markdown",
   "id": "cbe49709",
   "metadata": {},
   "source": [
    "### Some examples"
   ]
  },
  {
   "cell_type": "code",
   "execution_count": 22,
   "id": "e48a994b",
   "metadata": {},
   "outputs": [
    {
     "name": "stdout",
     "output_type": "stream",
     "text": [
      "Please enter your name: Rahul\n",
      "Thank you! Your name has been written to guest.txt.\n"
     ]
    }
   ],
   "source": [
    "# Prompt the user for their name\n",
    "name = input(\"Please enter your name: \")\n",
    "\n",
    "# Open the file in write mode and write the name to it\n",
    "with open(\"guest.txt\", \"w\") as file:\n",
    "    file.write(name)\n",
    "\n",
    "print(\"Thank you! Your name has been written to guest.txt.\")\n"
   ]
  },
  {
   "cell_type": "code",
   "execution_count": 28,
   "id": "32cdfab1",
   "metadata": {},
   "outputs": [
    {
     "name": "stdout",
     "output_type": "stream",
     "text": [
      "RahulKunal\n",
      "\n",
      "Rahul\n",
      "\n",
      "Kriti\n",
      "\n",
      "Megha\n",
      "\n",
      "Soumiksha\n",
      "\n",
      "Roshni\n",
      "\n",
      "Sridevi\n",
      "\n",
      "jatin\n",
      "\n",
      "sakshi\n",
      "\n"
     ]
    }
   ],
   "source": [
    "# reading the above file\n",
    "file_path = \"E:\\\\machine learning projects\\\\guest.txt\"\n",
    "with open (file_path) as file_object:  \n",
    "    for line in file_object:\n",
    "        print(line)"
   ]
  },
  {
   "cell_type": "code",
   "execution_count": 27,
   "id": "0db91139",
   "metadata": {},
   "outputs": [
    {
     "name": "stdout",
     "output_type": "stream",
     "text": [
      "Please enter your name (or 'q' to quit): jatin\n",
      "Please enter your name (or 'q' to quit): sakshi\n",
      "Please enter your name (or 'q' to quit): q\n",
      "Thank you! Your names have been added to guest.txt.\n"
     ]
    }
   ],
   "source": [
    "# using while and break to store more names\n",
    "while True:\n",
    "    # Prompt the user for their name\n",
    "    name = input(\"Please enter your name (or 'q' to quit): \")\n",
    "\n",
    "    if name.lower() == 'q':\n",
    "        break\n",
    "\n",
    "    # Open the file in append mode and write the name to it\n",
    "    with open(\"guest.txt\", \"a\") as file:\n",
    "        file.write(name + '\\n')\n",
    "\n",
    "print(\"Thank you! Your names have been added to guest.txt.\")\n"
   ]
  },
  {
   "cell_type": "markdown",
   "id": "cf8a26e9",
   "metadata": {},
   "source": [
    "#### Using while and break loop to ask people why they like programming"
   ]
  },
  {
   "cell_type": "code",
   "execution_count": 34,
   "id": "c253f70b",
   "metadata": {},
   "outputs": [
    {
     "name": "stdout",
     "output_type": "stream",
     "text": [
      "Please enter your name  hogaya abhi\n",
      "why do you like programming? (or 'q' to quit): q\n",
      "Thank you! Your names have been added to programming.txt.\n"
     ]
    }
   ],
   "source": [
    "\n",
    "# using while and break to store more names\n",
    "while True:\n",
    "    # Prompt the user for their name\n",
    "    name = input(\"Please enter your name  \")\n",
    "    detail = input(\"why do you like programming? (or 'q' to quit): \")\n",
    "\n",
    "    if detail.lower() == 'q':\n",
    "        break\n",
    "\n",
    "    # Open the file in append mode and write the name to it\n",
    "    with open(\"programming.txt\", \"a\") as file:\n",
    "        file.write(name + detail + '\\n')\n",
    "\n",
    "print(\"Thank you! Your names have been added to programming.txt.\")"
   ]
  },
  {
   "cell_type": "code",
   "execution_count": 36,
   "id": "e4d68d8e",
   "metadata": {},
   "outputs": [
    {
     "name": "stdout",
     "output_type": "stream",
     "text": [
      "I want to analyse big data and make an applicaiton\n",
      "\n",
      "I want to solve complex mathematical problems\n",
      "\n",
      "i am passionate about learning new things\n",
      "\n",
      "data analysis and deep learning\n",
      "\n",
      "help vishal with complex analysis\n",
      "\n",
      "online collaborations\n",
      "\n"
     ]
    }
   ],
   "source": [
    "# reading the above file\n",
    "file_path = \"E:\\\\machine learning projects\\\\programming.txt\"\n",
    "with open (file_path) as file_object:  \n",
    "    for line in file_object:\n",
    "        print(line)"
   ]
  },
  {
   "cell_type": "markdown",
   "id": "38f37997",
   "metadata": {},
   "source": [
    "## Exceptions"
   ]
  },
  {
   "cell_type": "code",
   "execution_count": 40,
   "id": "ba5f95e4",
   "metadata": {},
   "outputs": [
    {
     "ename": "ZeroDivisionError",
     "evalue": "division by zero",
     "output_type": "error",
     "traceback": [
      "\u001b[1;31m---------------------------------------------------------------------------\u001b[0m",
      "\u001b[1;31mZeroDivisionError\u001b[0m                         Traceback (most recent call last)",
      "Cell \u001b[1;32mIn[40], line 1\u001b[0m\n\u001b[1;32m----> 1\u001b[0m \u001b[38;5;241m5\u001b[39m\u001b[38;5;241m/\u001b[39m\u001b[38;5;241m0\u001b[39m\n",
      "\u001b[1;31mZeroDivisionError\u001b[0m: division by zero"
     ]
    }
   ],
   "source": [
    "5/0"
   ]
  },
  {
   "cell_type": "code",
   "execution_count": 42,
   "id": "1bd69156",
   "metadata": {},
   "outputs": [],
   "source": [
    "# using try-except block to handle this kind of error"
   ]
  },
  {
   "cell_type": "code",
   "execution_count": 46,
   "id": "447d550a",
   "metadata": {},
   "outputs": [
    {
     "name": "stdout",
     "output_type": "stream",
     "text": [
      "Error: You can't divide by zero!\n"
     ]
    }
   ],
   "source": [
    "try:\n",
    "    print(5/0)           #contains the code that we wish to try\n",
    "except ZeroDivisionError:\n",
    "    print(\"Error: You can't divide by zero!\")\n"
   ]
  },
  {
   "cell_type": "code",
   "execution_count": 1,
   "id": "0410ee60",
   "metadata": {},
   "outputs": [
    {
     "name": "stdout",
     "output_type": "stream",
     "text": [
      "Error: You can't divide by zero!\n"
     ]
    }
   ],
   "source": [
    "try:\n",
    "    print(5/0)           #contains the code that we wish to try\n",
    "except ZeroDivisionError:\n",
    "    print(\"Error: You can't divide by zero!\")\n",
    "else:\n",
    "    print(answer)"
   ]
  },
  {
   "cell_type": "markdown",
   "id": "6e879247",
   "metadata": {},
   "source": [
    "### handling the FileNotFoundError Exception"
   ]
  },
  {
   "cell_type": "code",
   "execution_count": 2,
   "id": "0922c510",
   "metadata": {},
   "outputs": [
    {
     "ename": "FileNotFoundError",
     "evalue": "[Errno 2] No such file or directory: 'kunal.txt'",
     "output_type": "error",
     "traceback": [
      "\u001b[1;31m---------------------------------------------------------------------------\u001b[0m",
      "\u001b[1;31mFileNotFoundError\u001b[0m                         Traceback (most recent call last)",
      "Cell \u001b[1;32mIn[2], line 4\u001b[0m\n\u001b[0;32m      1\u001b[0m \u001b[38;5;66;03m### handling the FileNotFoundError Exception\u001b[39;00m\n\u001b[0;32m      2\u001b[0m filename \u001b[38;5;241m=\u001b[39m \u001b[38;5;124m'\u001b[39m\u001b[38;5;124mkunal.txt\u001b[39m\u001b[38;5;124m'\u001b[39m\n\u001b[1;32m----> 4\u001b[0m \u001b[38;5;28;01mwith\u001b[39;00m \u001b[38;5;28mopen\u001b[39m(filename, encoding\u001b[38;5;241m=\u001b[39m \u001b[38;5;124m'\u001b[39m\u001b[38;5;124mutf-8\u001b[39m\u001b[38;5;124m'\u001b[39m) \u001b[38;5;28;01mas\u001b[39;00m f:\n\u001b[0;32m      5\u001b[0m     contents \u001b[38;5;241m=\u001b[39m f\u001b[38;5;241m.\u001b[39mread()\n",
      "File \u001b[1;32m~\\anaconda3\\Lib\\site-packages\\IPython\\core\\interactiveshell.py:286\u001b[0m, in \u001b[0;36m_modified_open\u001b[1;34m(file, *args, **kwargs)\u001b[0m\n\u001b[0;32m    279\u001b[0m \u001b[38;5;28;01mif\u001b[39;00m file \u001b[38;5;129;01min\u001b[39;00m {\u001b[38;5;241m0\u001b[39m, \u001b[38;5;241m1\u001b[39m, \u001b[38;5;241m2\u001b[39m}:\n\u001b[0;32m    280\u001b[0m     \u001b[38;5;28;01mraise\u001b[39;00m \u001b[38;5;167;01mValueError\u001b[39;00m(\n\u001b[0;32m    281\u001b[0m         \u001b[38;5;124mf\u001b[39m\u001b[38;5;124m\"\u001b[39m\u001b[38;5;124mIPython won\u001b[39m\u001b[38;5;124m'\u001b[39m\u001b[38;5;124mt let you open fd=\u001b[39m\u001b[38;5;132;01m{\u001b[39;00mfile\u001b[38;5;132;01m}\u001b[39;00m\u001b[38;5;124m by default \u001b[39m\u001b[38;5;124m\"\u001b[39m\n\u001b[0;32m    282\u001b[0m         \u001b[38;5;124m\"\u001b[39m\u001b[38;5;124mas it is likely to crash IPython. If you know what you are doing, \u001b[39m\u001b[38;5;124m\"\u001b[39m\n\u001b[0;32m    283\u001b[0m         \u001b[38;5;124m\"\u001b[39m\u001b[38;5;124myou can use builtins\u001b[39m\u001b[38;5;124m'\u001b[39m\u001b[38;5;124m open.\u001b[39m\u001b[38;5;124m\"\u001b[39m\n\u001b[0;32m    284\u001b[0m     )\n\u001b[1;32m--> 286\u001b[0m \u001b[38;5;28;01mreturn\u001b[39;00m io_open(file, \u001b[38;5;241m*\u001b[39margs, \u001b[38;5;241m*\u001b[39m\u001b[38;5;241m*\u001b[39mkwargs)\n",
      "\u001b[1;31mFileNotFoundError\u001b[0m: [Errno 2] No such file or directory: 'kunal.txt'"
     ]
    }
   ],
   "source": [
    "\n",
    "filename = 'kunal.txt'\n",
    "\n",
    "with open(filename, encoding= 'utf-8') as f:\n",
    "    contents = f.read()"
   ]
  },
  {
   "cell_type": "markdown",
   "id": "4364ecf2",
   "metadata": {},
   "source": [
    "### Tackling the FileNotFoundError"
   ]
  },
  {
   "cell_type": "code",
   "execution_count": 5,
   "id": "cbffa121",
   "metadata": {},
   "outputs": [
    {
     "name": "stdout",
     "output_type": "stream",
     "text": [
      "Sorry, the file kunal.txt doesnot exist.\n"
     ]
    }
   ],
   "source": [
    "filename = 'kunal.txt'\n",
    "\n",
    "try:\n",
    "    with open(filename, encoding= 'utf-8') as f:\n",
    "        contents = f.read()\n",
    "    \n",
    "except FileNotFoundError:\n",
    "    print(f\"Sorry, the file {filename} doesnot exist.\")"
   ]
  },
  {
   "cell_type": "markdown",
   "id": "e7da3561",
   "metadata": {},
   "source": [
    "### Analyzing text"
   ]
  },
  {
   "cell_type": "code",
   "execution_count": 6,
   "id": "0d2df82d",
   "metadata": {},
   "outputs": [
    {
     "data": {
      "text/plain": [
       "['learning', 'python', 'the', 'easy', 'way']"
      ]
     },
     "execution_count": 6,
     "metadata": {},
     "output_type": "execute_result"
    }
   ],
   "source": [
    "title = 'learning python the easy way'\n",
    "title.split()\n"
   ]
  },
  {
   "cell_type": "code",
   "execution_count": 11,
   "id": "8beacfc1",
   "metadata": {},
   "outputs": [
    {
     "name": "stdout",
     "output_type": "stream",
     "text": [
      "The file kunal.txt has about 138 words.\n",
      "\n",
      "['Ce', 'chapitre', 'propose', 'd’utiliser', 'l’extension', 'Git', 'de', 'JupyterLab.', 'Un', 'tutoriel', 'présentant', 'cette', 'extension', 'est', 'disponible', 'ici.', 'Les', 'principaux', 'IDE', 'disponibles', '(Visual', 'Studio,', 'PyCharm,', 'RStudio)', 'présentent', 'des', 'fonctionalités', 'similaires.', 'Il', 'est', 'tout', 'à', 'fait', 'possible', 'd’en', 'utiliser', 'un', 'autre.', 'VisualStudio', 'propose', 'probablement,', 'à', 'l’heure', 'actuelle,', 'l’ensemble', 'le', 'plus', 'complet.', 'Certains', 'passages', 'de', 'ce', 'TD', 'nécessitent', 'd’utiliser', 'la', 'ligne', 'de', 'commande.', 'Il', 'est', 'tout', 'à', 'fait', 'possible', 'de', 'réaliser', 'ce', 'TD', 'entièrement', 'avec', 'celle-ci.', 'Cependant,', 'pour', 'une', 'personne', 'débutante', 'en', 'Git,', 'l’utilisation', 'd’une', 'interface', 'graphique', 'peut', 'constituer', 'un', 'élément', 'important', 'pour', 'la', 'compréhension', 'et', 'l’adoption', 'de', 'Git.', 'Une', 'fois', 'à', 'l’aise', 'avec', 'Git,', 'on', 'peut', 'tout', 'à', 'fait', 'se', 'passer', 'des', 'interfaces', 'graphiques', 'pour', 'les', 'routines', 'quotidiennes', 'et', 'ne', 'les', 'utiliser', 'que', 'pour', 'certaines', 'opérations', 'où', 'elles', 's’avèrent', 'fort', 'pratiques', '(notamment', 'la', 'comparaison', 'de', 'deux', 'fichiers', 'avant', 'de', 'devoir', 'fusionner).']\n"
     ]
    }
   ],
   "source": [
    "filename = 'kunal.txt'\n",
    "\n",
    "try:\n",
    "    with open(filename, encoding='utf-8') as f:\n",
    "        contents = f.read()\n",
    "except FileNotFoundError:\n",
    "    print(f\"Sorry, the file{filename} doesnot exist.\")\n",
    "else:\n",
    "    #count the approxiate words\n",
    "    words = contents.split()\n",
    "    num_words = len(words)\n",
    "    print(f\"The file {filename} has about {num_words} words.\\n\")\n",
    "    print(words)"
   ]
  },
  {
   "cell_type": "markdown",
   "id": "fb401b0c",
   "metadata": {},
   "source": [
    "### Working with multiple files"
   ]
  },
  {
   "cell_type": "code",
   "execution_count": 13,
   "id": "c08be419",
   "metadata": {},
   "outputs": [
    {
     "name": "stdout",
     "output_type": "stream",
     "text": [
      "The file kunal.txt has about 138 words.\n",
      "\n"
     ]
    }
   ],
   "source": [
    "def count_words(filename):\n",
    "    \n",
    "\n",
    "    try:\n",
    "        with open(filename, encoding='utf-8') as f:\n",
    "            contents = f.read()\n",
    "    except FileNotFoundError:\n",
    "        print(f\"Sorry, the file{filename} doesnot exist.\")\n",
    "    else:\n",
    "    #count the approxiate words\n",
    "        words = contents.split()\n",
    "        num_words = len(words)\n",
    "        print(f\"The file {filename} has about {num_words} words.\\n\")\n",
    "\n",
    "filename = 'kunal.txt'\n",
    "count_words(filename)"
   ]
  },
  {
   "cell_type": "code",
   "execution_count": 20,
   "id": "8d7ce69e",
   "metadata": {},
   "outputs": [
    {
     "name": "stdout",
     "output_type": "stream",
     "text": [
      "The file kunal.txt has about 138 words.\n",
      "\n",
      "The file programming.txt has about 36 words.\n",
      "\n",
      "The file python.txt has about 25 words.\n",
      "\n",
      "Sorry, the file car.txt doesnot exist.\n"
     ]
    }
   ],
   "source": [
    "#missing file car.txt has no effect on program's execution\n",
    "\n",
    "def count_words(filename):\n",
    "    \n",
    "    try:\n",
    "        with open(filename, encoding='utf-8') as f:\n",
    "            contents = f.read()\n",
    "    except FileNotFoundError:\n",
    "        print(f\"Sorry, the file {filename} doesnot exist.\")\n",
    "    else:\n",
    "    #count the approxiate words\n",
    "        words = contents.split()\n",
    "        num_words = len(words)\n",
    "        print(f\"The file {filename} has about {num_words} words.\\n\")\n",
    "\n",
    "filenames = ['kunal.txt', 'programming.txt', 'python.txt', 'car.txt']   # car.txt is missing\n",
    "for filename in filenames:\n",
    "    count_words(filename)"
   ]
  },
  {
   "cell_type": "markdown",
   "id": "16a4e47d",
   "metadata": {},
   "source": [
    "### Failing silently"
   ]
  },
  {
   "cell_type": "code",
   "execution_count": 22,
   "id": "1b98273c",
   "metadata": {},
   "outputs": [
    {
     "name": "stdout",
     "output_type": "stream",
     "text": [
      "The file kunal.txt has about 138 words.\n",
      "\n",
      "The file programming.txt has about 36 words.\n",
      "\n",
      "The file python.txt has about 25 words.\n",
      "\n"
     ]
    }
   ],
   "source": [
    "def count_words(filename):\n",
    "    \n",
    "    try:\n",
    "        with open(filename, encoding='utf-8') as f:\n",
    "            contents = f.read()\n",
    "    except FileNotFoundError:\n",
    "        pass          #awesome, no need to write a default message\n",
    "        \n",
    "    else:\n",
    "    #count the approxiate words\n",
    "        words = contents.split()\n",
    "        num_words = len(words)\n",
    "        print(f\"The file {filename} has about {num_words} words.\\n\")\n",
    "\n",
    "filenames = ['kunal.txt', 'programming.txt', 'python.txt', 'car.txt']   # car.txt is missing\n",
    "for filename in filenames:\n",
    "    count_words(filename)"
   ]
  },
  {
   "cell_type": "markdown",
   "id": "8476d1f0",
   "metadata": {},
   "source": [
    "### Deciding which errors to report\n",
    "1. If users know which texts are supposed to be analyzed, they might appreciate a message informing them why some texts were not analyzed.\n",
    "2. Contrary to it, If users expect to see some results but don’t know which texts are supposed to be analyzed, they might not need to know that some texts were unavailable. "
   ]
  },
  {
   "cell_type": "markdown",
   "id": "c85568eb",
   "metadata": {},
   "source": [
    "### Storing data\n",
    "1. The first program will use json.dump() to store the set of numbers, and the second program will use json.load()."
   ]
  },
  {
   "cell_type": "code",
   "execution_count": 23,
   "id": "4ee098a9",
   "metadata": {},
   "outputs": [],
   "source": [
    "#1\n",
    "import json\n",
    "\n",
    "numbers = [12,3,31,123,44,23]\n",
    "\n",
    "filename = 'numbers.json'\n",
    "with open(filename, 'w') as f:   #'w' for writing\n",
    "    json.dump(numbers,f) "
   ]
  },
  {
   "cell_type": "code",
   "execution_count": 24,
   "id": "cf45019f",
   "metadata": {},
   "outputs": [
    {
     "name": "stdout",
     "output_type": "stream",
     "text": [
      "[12, 3, 31, 123, 44, 23]\n"
     ]
    }
   ],
   "source": [
    "#2\n",
    "import json\n",
    "\n",
    "filename = 'numbers.json'\n",
    "with open(filename) as f:\n",
    "    numbers = json.load(f)    #' ' for reading\n",
    "    \n",
    "print(numbers)"
   ]
  },
  {
   "cell_type": "markdown",
   "id": "4e80409c",
   "metadata": {},
   "source": [
    "### Saving and using User-Generated Data\n",
    "1. Saving data with json is useful when you’re working with user-generated data, because if you don’t store your user’s information somehow, you’ll lose it when the program stops running."
   ]
  },
  {
   "cell_type": "code",
   "execution_count": 31,
   "id": "d88d6121",
   "metadata": {},
   "outputs": [
    {
     "name": "stdout",
     "output_type": "stream",
     "text": [
      "what is your name? kk\n",
      "We'll remember your name when you come back, kk!\n"
     ]
    }
   ],
   "source": [
    "import json\n",
    "\n",
    "username = input(\"what is your name? \")\n",
    "\n",
    "filename = \"username.json\"\n",
    "with open(filename, 'w') as f:\n",
    "    json.dump(username, f)\n",
    "    print(f\"We'll remember your name when you come back, {username_2}!\")"
   ]
  },
  {
   "cell_type": "code",
   "execution_count": 33,
   "id": "8493ee0b",
   "metadata": {},
   "outputs": [
    {
     "name": "stdout",
     "output_type": "stream",
     "text": [
      "Welcome back, kk!\n"
     ]
    }
   ],
   "source": [
    "import json\n",
    "\n",
    "filename = \"username.json\"\n",
    "with open(filename) as f:\n",
    "    username = json.load(f)\n",
    "    print(f\"Welcome back, {username}!\")"
   ]
  },
  {
   "cell_type": "markdown",
   "id": "1f2df721",
   "metadata": {},
   "source": [
    "### Refactoring\n",
    "    1.improve the code by breaking it up into a series of functions for specific jobs."
   ]
  },
  {
   "cell_type": "code",
   "execution_count": 34,
   "id": "08d7f6c7",
   "metadata": {},
   "outputs": [
    {
     "name": "stdout",
     "output_type": "stream",
     "text": [
      "Welcome back, kk!\n"
     ]
    }
   ],
   "source": [
    "#1\n",
    "import json\n",
    "\n",
    "def greet_user():\n",
    "    filename = \"username.json\"\n",
    "    try:\n",
    "        with open(filename) as f:\n",
    "            username = json.load(f)\n",
    "    except FileNotFoundError:\n",
    "        username = input(\"What is your name? \")\n",
    "        with open(filename, 'w') as f:\n",
    "            json.dump(username, f)\n",
    "            print(f\"We'll remember you when you come back, {username}!\")\n",
    "    else:\n",
    "        print(f\"Welcome back, {username}!\")\n",
    "        \n",
    "greet_user()"
   ]
  },
  {
   "cell_type": "code",
   "execution_count": 35,
   "id": "359d17c4",
   "metadata": {},
   "outputs": [],
   "source": [
    "#2\n"
   ]
  }
 ],
 "metadata": {
  "kernelspec": {
   "display_name": "Python 3 (ipykernel)",
   "language": "python",
   "name": "python3"
  },
  "language_info": {
   "codemirror_mode": {
    "name": "ipython",
    "version": 3
   },
   "file_extension": ".py",
   "mimetype": "text/x-python",
   "name": "python",
   "nbconvert_exporter": "python",
   "pygments_lexer": "ipython3",
   "version": "3.11.5"
  }
 },
 "nbformat": 4,
 "nbformat_minor": 5
}
