{
 "cells": [
  {
   "cell_type": "markdown",
   "id": "c2ac790f",
   "metadata": {},
   "source": [
    "# Files and exceptions"
   ]
  },
  {
   "cell_type": "markdown",
   "id": "dad07128",
   "metadata": {},
   "source": [
    "### Learning outcomes-\n",
    "1. working with files (reading entire files or its contents)\n",
    "2. write a file and append text into the file\n",
    "3. exceptions and handling those\n",
    "4. Python data structures\n",
    "5. 'json' module- saves the data when program stops running"
   ]
  },
  {
   "cell_type": "markdown",
   "id": "8aa6834a",
   "metadata": {},
   "source": [
    "### Remarks*-\n",
    "1. open() function is used to read a file. \n",
    "2. Windows systems use a backslash (\\\\) instead of a forward slash (/) when displaying file paths, but you can still use forward slashes in your code.\n"
   ]
  },
  {
   "cell_type": "markdown",
   "id": "566aaf69",
   "metadata": {},
   "source": [
    "## Reading a file"
   ]
  },
  {
   "cell_type": "code",
   "execution_count": 11,
   "id": "a3803678",
   "metadata": {},
   "outputs": [
    {
     "name": "stdout",
     "output_type": "stream",
     "text": [
      "This file contains text that will be viewed in python's crash_course#7!\n",
      "\n",
      "\n",
      "\n",
      "there is some white space in between!\n"
     ]
    }
   ],
   "source": [
    "file_path = \"E:\\\\machine learning projects\\\\python.txt\"\n",
    "with open (file_path) as file_object:  \n",
    "    for line in file_object:\n",
    "        print(line)"
   ]
  },
  {
   "cell_type": "code",
   "execution_count": 13,
   "id": "e0b96c9b",
   "metadata": {},
   "outputs": [
    {
     "name": "stdout",
     "output_type": "stream",
     "text": [
      "This file contains text that will be viewed in python's crash_course#7!\n",
      "\n",
      "there is some white space in between!\n"
     ]
    }
   ],
   "source": [
    "# stripping extra lines\n",
    "file_path = \"E:\\\\machine learning projects\\\\python.txt\"\n",
    "with open (file_path) as file_object:  \n",
    "    for line in file_object:\n",
    "        print(line.rstrip())"
   ]
  },
  {
   "cell_type": "markdown",
   "id": "067149c1",
   "metadata": {},
   "source": [
    "### making a list of lines from a file"
   ]
  },
  {
   "cell_type": "code",
   "execution_count": 15,
   "id": "0b6293a0",
   "metadata": {},
   "outputs": [
    {
     "name": "stdout",
     "output_type": "stream",
     "text": [
      "This file contains text that will be viewed in python's crash_course#7!\n",
      "\n",
      "there is some white space in between!\n"
     ]
    }
   ],
   "source": [
    "with open (file_path) as file_object:  \n",
    "    lines = file_object.readlines()    #we used readlines method\n",
    "    \n",
    "for line in lines:\n",
    "    print(line.rstrip())\n",
    "        "
   ]
  },
  {
   "cell_type": "markdown",
   "id": "ab83d4fc",
   "metadata": {},
   "source": [
    "### working with file's contents"
   ]
  },
  {
   "cell_type": "code",
   "execution_count": 16,
   "id": "3bde4479",
   "metadata": {},
   "outputs": [
    {
     "name": "stdout",
     "output_type": "stream",
     "text": [
      "This file contains text that will be viewed in python's crash_course#7!there is some white space in between!\n",
      "108\n"
     ]
    }
   ],
   "source": [
    "pi_string = ''\n",
    "for line in lines:\n",
    "    pi_string += line.rstrip() \n",
    "    \n",
    "print(pi_string)\n",
    "print(len(pi_string))"
   ]
  },
  {
   "cell_type": "code",
   "execution_count": 19,
   "id": "143b8f60",
   "metadata": {},
   "outputs": [
    {
     "name": "stdout",
     "output_type": "stream",
     "text": [
      "This file contains text that will be viewed in python's crash_course#7!  there is some white space in between! \n",
      "111\n"
     ]
    }
   ],
   "source": [
    "pi_string = ''\n",
    "for line in lines:\n",
    "    pi_string += line.rstrip() + ' '  #adding a space in between lines\n",
    "    \n",
    "print(pi_string)\n",
    "print(len(pi_string))"
   ]
  },
  {
   "cell_type": "code",
   "execution_count": 21,
   "id": "ff791973",
   "metadata": {},
   "outputs": [
    {
     "name": "stdout",
     "output_type": "stream",
     "text": [
      "This file contains text that will be viewed in python's crash_course#7!\n",
      "\n",
      "there is some white space in between!\n",
      "\n",
      "111\n"
     ]
    }
   ],
   "source": [
    "any_string = ''\n",
    "for line in lines:\n",
    "    any_string += line.rstrip() + '\\n'  #similarly, adding a line in between lines\n",
    "    \n",
    "print(any_string)\n",
    "print(len(any_string))"
   ]
  },
  {
   "cell_type": "code",
   "execution_count": 22,
   "id": "14d5b2c4",
   "metadata": {},
   "outputs": [
    {
     "name": "stdout",
     "output_type": "stream",
     "text": [
      "This file contains text that will be viewed in pytho...\n",
      "111\n"
     ]
    }
   ],
   "source": [
    "any_string = ''\n",
    "for line in lines:\n",
    "    any_string += line.rstrip() + '\\n'  #similarly, adding a line in between lines\n",
    "    \n",
    "print(f\"{any_string[:52]}...\")         #prints first 52 characters\n",
    "print(len(any_string))"
   ]
  },
  {
   "cell_type": "markdown",
   "id": "270579bb",
   "metadata": {},
   "source": [
    "## Writing into a File"
   ]
  },
  {
   "cell_type": "code",
   "execution_count": 28,
   "id": "a670ab42",
   "metadata": {},
   "outputs": [
    {
     "ename": "NameError",
     "evalue": "name 'python_practice' is not defined",
     "output_type": "error",
     "traceback": [
      "\u001b[1;31m---------------------------------------------------------------------------\u001b[0m",
      "\u001b[1;31mNameError\u001b[0m                                 Traceback (most recent call last)",
      "Cell \u001b[1;32mIn[28], line 5\u001b[0m\n\u001b[0;32m      2\u001b[0m \u001b[38;5;28;01mwith\u001b[39;00m \u001b[38;5;28mopen\u001b[39m (filename, \u001b[38;5;124m'\u001b[39m\u001b[38;5;124mw\u001b[39m\u001b[38;5;124m'\u001b[39m) \u001b[38;5;28;01mas\u001b[39;00m file_object:\n\u001b[0;32m      3\u001b[0m     file_object\u001b[38;5;241m.\u001b[39mwrite(\u001b[38;5;124m\"\u001b[39m\u001b[38;5;124mI love programming.\u001b[39m\u001b[38;5;124m\"\u001b[39m)\n\u001b[1;32m----> 5\u001b[0m \u001b[38;5;28mprint\u001b[39m(\u001b[43mpython_practice\u001b[49m\u001b[38;5;241m.\u001b[39mtxt)\n",
      "\u001b[1;31mNameError\u001b[0m: name 'python_practice' is not defined"
     ]
    }
   ],
   "source": [
    "filename = 'python_practice.txt'\n",
    "with open (filename, 'w') as file_object:\n",
    "    file_object.write(\"I love programming.\")\n",
    "\n",
    "print(python_practice.txt)"
   ]
  }
 ],
 "metadata": {
  "kernelspec": {
   "display_name": "Python 3 (ipykernel)",
   "language": "python",
   "name": "python3"
  },
  "language_info": {
   "codemirror_mode": {
    "name": "ipython",
    "version": 3
   },
   "file_extension": ".py",
   "mimetype": "text/x-python",
   "name": "python",
   "nbconvert_exporter": "python",
   "pygments_lexer": "ipython3",
   "version": "3.10.9"
  }
 },
 "nbformat": 4,
 "nbformat_minor": 5
}
