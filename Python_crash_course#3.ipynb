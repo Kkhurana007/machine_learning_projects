{
 "cells": [
  {
   "cell_type": "markdown",
   "id": "86a1243b",
   "metadata": {},
   "source": [
    "# DICTIONARIES"
   ]
  },
  {
   "cell_type": "markdown",
   "id": "83c01d01",
   "metadata": {},
   "source": [
    "## Learning outcomes\n",
    "A dictionary in Python is a collection of key-value pairs.\n",
    "1. looping through a dictionary\n",
    "2. work with information stored in a dictionary\n",
    "3. access and modify individual elements in a dictionary\n",
    "4. nest multiple dictionaries in a list, nest lists in a dictionary, and nest a dictionary inside a dictionary\n"
   ]
  },
  {
   "cell_type": "markdown",
   "id": "61b6aa72",
   "metadata": {},
   "source": [
    "### printing specific values from a dictionary"
   ]
  },
  {
   "cell_type": "code",
   "execution_count": 2,
   "id": "51751426",
   "metadata": {},
   "outputs": [
    {
     "name": "stdout",
     "output_type": "stream",
     "text": [
      "You have earned 5 points!\n"
     ]
    }
   ],
   "source": [
    "d_0= {'colour' : 'verte', 'point' : 5}\n",
    "\n",
    "access = d_0['point'] #square brackets to access values\n",
    "print(f\"You have earned {access} points!\")"
   ]
  },
  {
   "cell_type": "markdown",
   "id": "43721577",
   "metadata": {},
   "source": [
    "### adding key value pairs to dictionaries"
   ]
  },
  {
   "cell_type": "code",
   "execution_count": 21,
   "id": "15a934b4",
   "metadata": {},
   "outputs": [
    {
     "name": "stdout",
     "output_type": "stream",
     "text": [
      "{'tout va bien': 0, 'oui, ça va': 1}\n"
     ]
    }
   ],
   "source": [
    "d_0['tout va bien'] = 0\n",
    "d_0['oui, ça va'] = 1\n",
    "print(d_0)"
   ]
  },
  {
   "cell_type": "markdown",
   "id": "a371fc78",
   "metadata": {},
   "source": [
    "### modifying values in dicitonaries"
   ]
  },
  {
   "cell_type": "code",
   "execution_count": 9,
   "id": "ff99d6a9",
   "metadata": {},
   "outputs": [
    {
     "name": "stdout",
     "output_type": "stream",
     "text": [
      "The new colour is green.\n"
     ]
    }
   ],
   "source": [
    "d_0 = {'colour' : 'green'}    #curly brackets\n",
    "print(f\"The new colour is {d_0['colour']}.\")"
   ]
  },
  {
   "cell_type": "code",
   "execution_count": 11,
   "id": "591c354c",
   "metadata": {},
   "outputs": [
    {
     "name": "stdout",
     "output_type": "stream",
     "text": [
      "The changed colour is marron.\n"
     ]
    }
   ],
   "source": [
    "d_0 = {'colour' : 'marron'}\n",
    "print(f\"The changed colour is {d_0['colour']}.\")  #square brackets for accessing specific elements"
   ]
  },
  {
   "cell_type": "markdown",
   "id": "f8608672",
   "metadata": {},
   "source": [
    "### removing key-value pairs"
   ]
  },
  {
   "cell_type": "code",
   "execution_count": 20,
   "id": "d77d0e1a",
   "metadata": {},
   "outputs": [
    {
     "name": "stdout",
     "output_type": "stream",
     "text": [
      "{'tout va bien': 0, 'oui, ça va': 1}\n"
     ]
    }
   ],
   "source": [
    "\n",
    "print(d_0)\n"
   ]
  },
  {
   "cell_type": "code",
   "execution_count": 19,
   "id": "b1661d0e",
   "metadata": {},
   "outputs": [
    {
     "name": "stdout",
     "output_type": "stream",
     "text": [
      "{'tout va bien': 0, 'oui, ça va': 1}\n"
     ]
    }
   ],
   "source": [
    "print(d_0)"
   ]
  },
  {
   "cell_type": "markdown",
   "id": "0c214419",
   "metadata": {},
   "source": [
    "### choosing the value based on key pair"
   ]
  },
  {
   "cell_type": "code",
   "execution_count": 55,
   "id": "69f7851e",
   "metadata": {},
   "outputs": [],
   "source": [
    "favorite_language = {\n",
    "    'kunal': 'français',\n",
    "    'ritika' : 'espagneol',\n",
    "    'kartik' : 'russe',\n",
    "    'vaibhav' : 'almande'\n",
    "}"
   ]
  },
  {
   "cell_type": "code",
   "execution_count": 29,
   "id": "6d35c163",
   "metadata": {},
   "outputs": [
    {
     "name": "stdout",
     "output_type": "stream",
     "text": [
      "kunal's favorite lanuage is Français.\n"
     ]
    }
   ],
   "source": [
    "language = favorite_language['kunal'].title()\n",
    "print(f\"kunal's favorite lanuage is {language}.\")"
   ]
  },
  {
   "cell_type": "markdown",
   "id": "c82a65cd",
   "metadata": {},
   "source": [
    "### remark*- consider using get method to obtain the value of the non assigned value pair"
   ]
  },
  {
   "cell_type": "markdown",
   "id": "74eb96cb",
   "metadata": {},
   "source": [
    "### loopinog through dictionary"
   ]
  },
  {
   "cell_type": "code",
   "execution_count": 31,
   "id": "c6d66b07",
   "metadata": {},
   "outputs": [
    {
     "name": "stdout",
     "output_type": "stream",
     "text": [
      "\n",
      "Key: dob\n",
      "Value: nov 1995\n",
      "\n",
      "Key: birth_place\n",
      "Value: gugaron\n",
      "\n",
      "Key: education\n",
      "Value: masters\n",
      "\n",
      "Key: children\n",
      "Value: 2\n"
     ]
    }
   ],
   "source": [
    "user_0 = {'dob' : 'nov 1995',\n",
    "         'birth_place' : 'gugaron', \n",
    "         'education' : 'masters',\n",
    "         'children' : '2', \n",
    "         }\n",
    "\n",
    "for key, value in user_0.items():\n",
    "    print(f\"\\nKey: {key}\")\n",
    "    \n",
    "    print(f\"Value: {value}\")"
   ]
  },
  {
   "cell_type": "code",
   "execution_count": 40,
   "id": "a8d29b40",
   "metadata": {},
   "outputs": [
    {
     "name": "stdout",
     "output_type": "stream",
     "text": [
      "{'tout va bien': 0, 'oui, ça va': 1}\n"
     ]
    }
   ],
   "source": [
    "print(d_0)"
   ]
  },
  {
   "cell_type": "markdown",
   "id": "9636b346",
   "metadata": {},
   "source": [
    "#### using keys() mehtod for looping"
   ]
  },
  {
   "cell_type": "code",
   "execution_count": 44,
   "id": "9a778467",
   "metadata": {},
   "outputs": [
    {
     "name": "stdout",
     "output_type": "stream",
     "text": [
      "Kunal\n",
      "Ritika\n",
      "Kartik\n",
      "Vaibhav\n"
     ]
    }
   ],
   "source": [
    "favorite_language\n",
    "for name in favorite_language.keys():\n",
    "    print(name.title())"
   ]
  },
  {
   "cell_type": "code",
   "execution_count": 45,
   "id": "cb077aca",
   "metadata": {
    "scrolled": true
   },
   "outputs": [
    {
     "name": "stdout",
     "output_type": "stream",
     "text": [
      "Français\n",
      "Espagneol\n",
      "Russe\n",
      "Almande\n"
     ]
    }
   ],
   "source": [
    "for language in favorite_language.values():\n",
    "    print(language.title())"
   ]
  },
  {
   "cell_type": "markdown",
   "id": "7fc556b1",
   "metadata": {},
   "source": [
    "### using keys method..."
   ]
  },
  {
   "cell_type": "code",
   "execution_count": 46,
   "id": "0061d77f",
   "metadata": {},
   "outputs": [
    {
     "name": "stdout",
     "output_type": "stream",
     "text": [
      "Raghav, please take your poll!\n"
     ]
    }
   ],
   "source": [
    "if 'raghav' not in favorite_language.keys():\n",
    "    print(\"Raghav, please take your poll!\")"
   ]
  },
  {
   "cell_type": "markdown",
   "id": "4c520309",
   "metadata": {},
   "source": [
    "### looping with keys method in a particular* method"
   ]
  },
  {
   "cell_type": "code",
   "execution_count": 47,
   "id": "9d3a506a",
   "metadata": {},
   "outputs": [
    {
     "name": "stdout",
     "output_type": "stream",
     "text": [
      "Kartik, thank you for taking the poll!\n",
      "Kunal, thank you for taking the poll!\n",
      "Ritika, thank you for taking the poll!\n",
      "Vaibhav, thank you for taking the poll!\n"
     ]
    }
   ],
   "source": [
    "for name in sorted(favorite_language.keys()):\n",
    "    print(f\"{name.title()}, thank you for taking the poll!\")"
   ]
  },
  {
   "cell_type": "markdown",
   "id": "b4e87048",
   "metadata": {},
   "source": [
    "### adding keys values with update method()"
   ]
  },
  {
   "cell_type": "code",
   "execution_count": 57,
   "id": "6b1bcf23",
   "metadata": {},
   "outputs": [
    {
     "data": {
      "text/plain": [
       "{'kunal': 'français',\n",
       " 'ritika': 'espagneol',\n",
       " 'kartik': 'russe',\n",
       " 'vaibhav': 'almande',\n",
       " 'vaisahli': 'français'}"
      ]
     },
     "execution_count": 57,
     "metadata": {},
     "output_type": "execute_result"
    }
   ],
   "source": [
    "favorite_language.update({'vaisahli' : 'français'})\n",
    "favorite_language"
   ]
  },
  {
   "cell_type": "markdown",
   "id": "57b224ba",
   "metadata": {},
   "source": [
    "### using set method to evit repetition"
   ]
  },
  {
   "cell_type": "code",
   "execution_count": 60,
   "id": "f376c2c8",
   "metadata": {},
   "outputs": [
    {
     "name": "stdout",
     "output_type": "stream",
     "text": [
      "Russe\n",
      "Almande\n",
      "Espagneol\n",
      "Français\n"
     ]
    }
   ],
   "source": [
    "for language in set(favorite_language.values()):\n",
    "    print(language.title())"
   ]
  },
  {
   "cell_type": "markdown",
   "id": "79101645",
   "metadata": {},
   "source": [
    "### Nesting - for multiple dictionaries"
   ]
  },
  {
   "cell_type": "code",
   "execution_count": 62,
   "id": "8e7afefe",
   "metadata": {},
   "outputs": [
    {
     "name": "stdout",
     "output_type": "stream",
     "text": [
      "{'dob': 'nov 1995', 'birth_place': 'gugaron', 'education': 'masters', 'children': '2'}\n",
      "{'tout va bien': 0, 'oui, ça va': 1}\n",
      "{'kunal': 'français', 'ritika': 'espagneol', 'kartik': 'russe', 'vaibhav': 'almande', 'vaisahli': 'français'}\n"
     ]
    }
   ],
   "source": [
    "print(user_0)\n",
    "print(d_0)\n",
    "print(favorite_language)"
   ]
  },
  {
   "cell_type": "markdown",
   "id": "f0a15f08",
   "metadata": {},
   "source": [
    "### using for loop to print all the dictionaries together"
   ]
  },
  {
   "cell_type": "code",
   "execution_count": 63,
   "id": "1d40cc3b",
   "metadata": {},
   "outputs": [
    {
     "name": "stdout",
     "output_type": "stream",
     "text": [
      "{'dob': 'nov 1995', 'birth_place': 'gugaron', 'education': 'masters', 'children': '2'}\n",
      "{'tout va bien': 0, 'oui, ça va': 1}\n",
      "{'kunal': 'français', 'ritika': 'espagneol', 'kartik': 'russe', 'vaibhav': 'almande', 'vaisahli': 'français'}\n"
     ]
    }
   ],
   "source": [
    "combined = [user_0, d_0, favorite_language]\n",
    "\n",
    "for tout in combined:\n",
    "    print(tout)"
   ]
  },
  {
   "cell_type": "markdown",
   "id": "12d683c5",
   "metadata": {},
   "source": [
    "### nesting a list inside a dictionary"
   ]
  },
  {
   "cell_type": "code",
   "execution_count": 67,
   "id": "951037b0",
   "metadata": {},
   "outputs": [
    {
     "name": "stdout",
     "output_type": "stream",
     "text": [
      "\n",
      "Kunal's favorite languages are:\n",
      "\tPython\n",
      "\tLatex\n",
      "\tHtml\n",
      "\tJava\n",
      "\n",
      "John's favorite languages are:\n",
      "\tHtml\n",
      "\tC\n",
      "\tC++\n",
      "\n",
      "Gofi's favorite languages are:\n",
      "\tJava\n",
      "\tPython\n",
      "\tR\n",
      "\tHtml\n"
     ]
    }
   ],
   "source": [
    "programming_languages = {'kunal' : ['python', 'latex', 'html', 'java'],\n",
    "                        'john' : ['html', 'c', 'C++'],\n",
    "                        'gofi' : ['java', 'python', 'R', 'html']}\n",
    "\n",
    "for name, languages in programming_languages.items():  #use items to iterate thorough dictionary items\n",
    "    print(f\"\\n{name.title()}'s favorite languages are:\")\n",
    "    for language in languages:\n",
    "        print(f\"\\t{language.title()}\")\n"
   ]
  },
  {
   "cell_type": "markdown",
   "id": "8d7eb2fc",
   "metadata": {},
   "source": [
    "### nesting a dictionary inside a dictionary and looping\n"
   ]
  },
  {
   "cell_type": "code",
   "execution_count": 70,
   "id": "8c09da26",
   "metadata": {},
   "outputs": [],
   "source": [
    "users = {\n",
    "    'kkhurana' : {\n",
    "        'first' : 'kunal',\n",
    "        'last' : 'khurana', \n",
    "        'location': 'montréal',\n",
    "        },\n",
    "    \n",
    "        'asharma' : {\n",
    "            'first': 'anita',\n",
    "            'last': 'sharma',\n",
    "            'location': 'sudbery'\n",
    "        },\n",
    "    \n",
    "    'jarora' : {\n",
    "        'first' : 'jatin',\n",
    "        'last' : 'arora',\n",
    "        'location' : 'perth'\n",
    "    },\n",
    "    }"
   ]
  },
  {
   "cell_type": "code",
   "execution_count": 71,
   "id": "a9f08e28",
   "metadata": {},
   "outputs": [
    {
     "data": {
      "text/plain": [
       "{'kkhurana': {'first': 'kunal', 'last': 'khurana', 'location': 'montréal'},\n",
       " 'asharma': {'first': 'anita', 'last': 'sharma', 'location': 'sudbery'},\n",
       " 'jarora': {'first': 'jatin', 'last': 'arora', 'location': 'perth'}}"
      ]
     },
     "execution_count": 71,
     "metadata": {},
     "output_type": "execute_result"
    }
   ],
   "source": [
    "users"
   ]
  },
  {
   "cell_type": "code",
   "execution_count": 75,
   "id": "213a8905",
   "metadata": {},
   "outputs": [
    {
     "name": "stdout",
     "output_type": "stream",
     "text": [
      "\n",
      "Username: kkhurana\n",
      "\tFull name: Kunal Khurana\n",
      "\tLocation: Montréal\n",
      "\n",
      "Username: asharma\n",
      "\tFull name: Anita Sharma\n",
      "\tLocation: Sudbery\n",
      "\n",
      "Username: jarora\n",
      "\tFull name: Jatin Arora\n",
      "\tLocation: Perth\n"
     ]
    }
   ],
   "source": [
    "for username, user_info in users.items():\n",
    "    print(f\"\\nUsername: {username}\")\n",
    "    full_name = f\"{user_info['first']} {user_info['last']}\"\n",
    "    location = user_info['location']\n",
    "    \n",
    "    print(f\"\\tFull name: {full_name.title()}\")\n",
    "    print(f\"\\tLocation: {location.title()}\")"
   ]
  }
 ],
 "metadata": {
  "kernelspec": {
   "display_name": "Python 3 (ipykernel)",
   "language": "python",
   "name": "python3"
  },
  "language_info": {
   "codemirror_mode": {
    "name": "ipython",
    "version": 3
   },
   "file_extension": ".py",
   "mimetype": "text/x-python",
   "name": "python",
   "nbconvert_exporter": "python",
   "pygments_lexer": "ipython3",
   "version": "3.10.9"
  }
 },
 "nbformat": 4,
 "nbformat_minor": 5
}
