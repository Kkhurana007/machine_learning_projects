{
 "cells": [
  {
   "cell_type": "markdown",
   "id": "b382fe92",
   "metadata": {},
   "source": [
    "# IF statements"
   ]
  },
  {
   "cell_type": "markdown",
   "id": "bb6fa961",
   "metadata": {},
   "source": [
    "## Learning outcmoes\n",
    "1. write conditional tests, which always evaluate to True or False.\n",
    "2. write simple if statements, if-else chains, and if-elif-else chains.\n",
    "3. use these structures to identify particular conditions you needed to test and to know when those conditions have been met in your programs.\n",
    "4. learn to handle certain items in a list differently than all other items while continuing to utilize the efficiency of a for loop.\n"
   ]
  },
  {
   "cell_type": "markdown",
   "id": "f842b95f",
   "metadata": {},
   "source": [
    "### print bmw in upper case and the other cars in the title case"
   ]
  },
  {
   "cell_type": "code",
   "execution_count": 6,
   "id": "d41e3179",
   "metadata": {},
   "outputs": [
    {
     "name": "stdout",
     "output_type": "stream",
     "text": [
      "Honda\n",
      "Toyota\n",
      "Volksvogen\n",
      "Ferrari\n",
      "BMW\n",
      "Benz\n"
     ]
    }
   ],
   "source": [
    "#  let's print bmw in upper case and the other cars in the list as title case\n",
    "cars = ['honda', 'toyota', 'volksvogen', 'ferrari', 'bmw', 'benz']\n",
    "\n",
    "for car in cars:\n",
    "    if car == 'bmw':\n",
    "        print(car.upper())\n",
    "    else:\n",
    "        print(car.title())\n",
    "    "
   ]
  },
  {
   "cell_type": "markdown",
   "id": "262969b3",
   "metadata": {},
   "source": [
    "### allowing a user to post a comment"
   ]
  },
  {
   "cell_type": "code",
   "execution_count": 8,
   "id": "2c053906",
   "metadata": {},
   "outputs": [
    {
     "name": "stdout",
     "output_type": "stream",
     "text": [
      "Dave, you can post a comment if you wish.\n"
     ]
    }
   ],
   "source": [
    "banned_users = ['raghav', 'sunita', 'carlos']\n",
    "user = 'dave'\n",
    "\n",
    "if user not in banned_users:\n",
    "    print(f\"{user.title()}, you can post a comment if you wish.\")"
   ]
  },
  {
   "cell_type": "markdown",
   "id": "90448fa8",
   "metadata": {},
   "source": [
    "### voting using if/else"
   ]
  },
  {
   "cell_type": "code",
   "execution_count": 10,
   "id": "45987a8b",
   "metadata": {},
   "outputs": [
    {
     "name": "stdout",
     "output_type": "stream",
     "text": [
      "You are old enough to vote!\n",
      "Are you registered to vote?\n"
     ]
    }
   ],
   "source": [
    "age = 19\n",
    "\n",
    "if age >= 18:\n",
    "    print('You are old enough to vote!')\n",
    "    print('Are you registered to vote?')\n",
    "else:\n",
    "    print(\"Sorry, you are too young to vote.\")\n",
    "    print(\"PLease register to vote as soon as you turn 18!\")\n",
    "    "
   ]
  },
  {
   "cell_type": "markdown",
   "id": "1c810e71",
   "metadata": {},
   "source": [
    "### price using if/else/elif"
   ]
  },
  {
   "cell_type": "code",
   "execution_count": 11,
   "id": "39d9d0ff",
   "metadata": {},
   "outputs": [
    {
     "name": "stdout",
     "output_type": "stream",
     "text": [
      "Your admission price is 25.\n"
     ]
    }
   ],
   "source": [
    "age = 12\n",
    "\n",
    "if age < 4:\n",
    "    price = 0\n",
    "elif age < 18:\n",
    "    price = 25\n",
    "elif age <= 65:\n",
    "    price = 40\n",
    "else:\n",
    "    price = 20\n",
    "    \n",
    "print(f\"Your admission price is {price}.\")"
   ]
  },
  {
   "cell_type": "code",
   "execution_count": 15,
   "id": "78553aa5",
   "metadata": {},
   "outputs": [
    {
     "name": "stdout",
     "output_type": "stream",
     "text": [
      "Your admission price is 20.\n"
     ]
    }
   ],
   "source": [
    "age = 66\n",
    "\n",
    "if age < 4:\n",
    "    price = 0\n",
    "elif age < 18:\n",
    "    price = 25\n",
    "elif age <= 65:\n",
    "    price = 40\n",
    "else:\n",
    "    price = 20\n",
    "    \n",
    "print(f\"Your admission price is {price}.\")"
   ]
  },
  {
   "cell_type": "markdown",
   "id": "27f6ec63",
   "metadata": {},
   "source": [
    "### toppings using if/elif/else and for loops"
   ]
  },
  {
   "cell_type": "code",
   "execution_count": 18,
   "id": "5fc92b50",
   "metadata": {},
   "outputs": [
    {
     "name": "stdout",
     "output_type": "stream",
     "text": [
      "Adding mushrooms.\n",
      "Adding green peppers.\n",
      "Adding belpeppers.\n",
      "Sorry, we are out of onions right now.\n",
      "Adding lettuce.\n",
      "\n",
      "Finished making your pizza!\n"
     ]
    }
   ],
   "source": [
    "req_toppings = ['mushrooms', 'green peppers', 'belpeppers', 'onions', 'lettuce']\n",
    "\n",
    "for req_topping in req_toppings:\n",
    "    if req_topping == 'onions':\n",
    "        print(\"Sorry, we are out of onions right now.\")\n",
    "    else:\n",
    "        print(f'Adding {req_topping}.')\n",
    "    \n",
    "print('\\nFinished making your pizza!')"
   ]
  },
  {
   "cell_type": "code",
   "execution_count": 31,
   "id": "dc6f7c3e",
   "metadata": {},
   "outputs": [
    {
     "name": "stdout",
     "output_type": "stream",
     "text": [
      "Are you sure you want a plain pizza?\n"
     ]
    }
   ],
   "source": [
    "req_toppings = []\n",
    "\n",
    "if req_toppings:\n",
    "    for req_topping in req_toppings:\n",
    "         print(f'Adding {req_topping}.')\n",
    "    print('\\nFinished making your pizza!')\n",
    "else:\n",
    "    print(\"Are you sure you want a plain pizza?\")"
   ]
  },
  {
   "cell_type": "code",
   "execution_count": 34,
   "id": "d5fe63b8",
   "metadata": {},
   "outputs": [
    {
     "name": "stdout",
     "output_type": "stream",
     "text": [
      "Adding mushrooms\n",
      "Adding green peppers\n",
      "Sorry, we don't have broccoli.\n",
      "\n",
      "Finished making your pizza!\n"
     ]
    }
   ],
   "source": [
    "available_toppings = ['mushrooms', 'mayo', 'south-west', 'green peppers', 'belpeppers', 'lettuce']\n",
    "req_toppings = ['mushrooms', 'green peppers', 'broccoli']\n",
    "\n",
    "for req_topping in req_toppings:  #we iterate over req_toppings\n",
    "    if req_topping in available_toppings:\n",
    "        print(f\"Adding {req_topping}\")\n",
    "    else:\n",
    "        print(f\"Sorry, we don't have {req_topping}.\")\n",
    "        \n",
    "print(\"\\nFinished making your pizza!\")"
   ]
  }
 ],
 "metadata": {
  "kernelspec": {
   "display_name": "Python 3 (ipykernel)",
   "language": "python",
   "name": "python3"
  },
  "language_info": {
   "codemirror_mode": {
    "name": "ipython",
    "version": 3
   },
   "file_extension": ".py",
   "mimetype": "text/x-python",
   "name": "python",
   "nbconvert_exporter": "python",
   "pygments_lexer": "ipython3",
   "version": "3.10.9"
  }
 },
 "nbformat": 4,
 "nbformat_minor": 5
}
