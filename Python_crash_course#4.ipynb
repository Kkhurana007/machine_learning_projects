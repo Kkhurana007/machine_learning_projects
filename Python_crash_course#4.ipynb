{
 "cells": [
  {
   "cell_type": "markdown",
   "id": "64239ff3",
   "metadata": {},
   "source": [
    "# User input and while loops"
   ]
  },
  {
   "cell_type": "markdown",
   "id": "57bf7f3c",
   "metadata": {},
   "source": [
    "## Learning outcomes\n",
    "1. how the input() function works\n",
    "2. while loops (text and numerical inputs) \n",
    "3. using while loop with lists and dictionaries\n",
    "4. control the flow of a while loop by setting an active flag, using the break statement, and using the continue statement\n",
    "5. using a while loop to move items from one list to another and to remove all instances of a value from a list. "
   ]
  },
  {
   "cell_type": "markdown",
   "id": "e99835a1",
   "metadata": {},
   "source": [
    "### input() function "
   ]
  },
  {
   "cell_type": "code",
   "execution_count": null,
   "id": "114e9935",
   "metadata": {},
   "outputs": [],
   "source": [
    "message = input(\"Please enter your full name: \")\n",
    "print(message)"
   ]
  },
  {
   "cell_type": "code",
   "execution_count": null,
   "id": "603ac1a9",
   "metadata": {},
   "outputs": [],
   "source": [
    "print(f\"\\nHello, {message}!\")"
   ]
  },
  {
   "cell_type": "markdown",
   "id": "3f793bfc",
   "metadata": {},
   "source": [
    "### if/else + input"
   ]
  },
  {
   "cell_type": "code",
   "execution_count": 2,
   "id": "a40b2e4a",
   "metadata": {},
   "outputs": [
    {
     "name": "stdout",
     "output_type": "stream",
     "text": [
      "May i know your age, please?6556\n",
      "\n",
      "You can enter the zoo for free\n"
     ]
    }
   ],
   "source": [
    "age = input(\"May i know your age, please?\")\n",
    "age = int(age)\n",
    "\n",
    "if age <=12 or age >= 65 :\n",
    "    print(\"\\nYou can enter the zoo for free\")\n",
    "\n",
    "else:\n",
    "    print(\"\\nYou'll have to pay 45CAD for a 90 minutes visit\")\n",
    "    "
   ]
  },
  {
   "cell_type": "markdown",
   "id": "321e4049",
   "metadata": {},
   "source": [
    "### Modulo operator\n",
    "provides the remainder after division"
   ]
  },
  {
   "cell_type": "code",
   "execution_count": 6,
   "id": "84fd79e9",
   "metadata": {},
   "outputs": [
    {
     "data": {
      "text/plain": [
       "1"
      ]
     },
     "execution_count": 6,
     "metadata": {},
     "output_type": "execute_result"
    }
   ],
   "source": [
    "4%3"
   ]
  },
  {
   "cell_type": "code",
   "execution_count": 8,
   "id": "d6f6df5d",
   "metadata": {},
   "outputs": [
    {
     "data": {
      "text/plain": [
       "1"
      ]
     },
     "execution_count": 8,
     "metadata": {},
     "output_type": "execute_result"
    }
   ],
   "source": [
    "5 % 2"
   ]
  },
  {
   "cell_type": "markdown",
   "id": "7d5b90dc",
   "metadata": {},
   "source": [
    "### while Loops"
   ]
  },
  {
   "cell_type": "code",
   "execution_count": 9,
   "id": "c30171da",
   "metadata": {},
   "outputs": [
    {
     "name": "stdout",
     "output_type": "stream",
     "text": [
      "1\n",
      "2\n",
      "3\n",
      "4\n",
      "5\n"
     ]
    }
   ],
   "source": [
    "# counting (1 to 5)\n",
    "current_number = 1\n",
    "while current_number <=5:\n",
    "    print(current_number)\n",
    "    current_number += 1\n",
    "    "
   ]
  },
  {
   "cell_type": "code",
   "execution_count": 12,
   "id": "7e485bdd",
   "metadata": {},
   "outputs": [
    {
     "name": "stdout",
     "output_type": "stream",
     "text": [
      "\n",
      "Tell me something and I will repeat it back to you:\n",
      " Enter 'quit' to end the program. I'm doing great!\n",
      "I'm doing great!\n",
      "\n",
      "Tell me something and I will repeat it back to you:\n",
      " Enter 'quit' to end the program. keep on playing with this game until you get tired\n",
      "keep on playing with this game until you get tired\n",
      "\n",
      "Tell me something and I will repeat it back to you:\n",
      " Enter 'quit' to end the program. quit\n",
      "quit\n"
     ]
    }
   ],
   "source": [
    "# infinite loop which stops with quit message\n",
    "prompt = \"\\nTell me something and I will repeat it back to you:\"\n",
    "prompt += \"\\n Enter 'quit' to end the program. \"\n",
    "message = \"\"\n",
    "while message != 'quit':\n",
    "    message = input(prompt)\n",
    "    print(message)"
   ]
  },
  {
   "cell_type": "markdown",
   "id": "f79cf224",
   "metadata": {},
   "source": [
    "### While loops + Flag\n",
    "- description- when flag conditions are true, the program continues to run. Else, it stops. \n",
    "- benefits over while loop- can be used to execute several conditions. Contrary to while loop, which uses only one condition"
   ]
  },
  {
   "cell_type": "code",
   "execution_count": 14,
   "id": "146ff756",
   "metadata": {},
   "outputs": [
    {
     "name": "stdout",
     "output_type": "stream",
     "text": [
      "\n",
      " Tell me something, and I will repeat it back to you:\n",
      " Enter 'quit' to end the program. I'm doing good today!\n",
      "I'm doing good today!\n",
      "\n",
      " Tell me something, and I will repeat it back to you:\n",
      " Enter 'quit' to end the program. quit\n"
     ]
    }
   ],
   "source": [
    "prompt = \"\\n Tell me something, and I will repeat it back to you:\"\n",
    "prompt += \"\\n Enter 'quit' to end the program. \"\n",
    "\n",
    "active = True\n",
    "while active :\n",
    "    message = input(prompt)\n",
    "    \n",
    "    if message == 'quit':\n",
    "        active = False\n",
    "    else:\n",
    "        print(message)"
   ]
  },
  {
   "cell_type": "code",
   "execution_count": 15,
   "id": "8fbad6a6",
   "metadata": {},
   "outputs": [
    {
     "name": "stdout",
     "output_type": "stream",
     "text": [
      "\n",
      "Please enter the name of a city you have visited:\n",
      "(Enter 'quit' when you are finished.)Dubai\n",
      "I'd like to visit this Dubai!\n",
      "\n",
      "Please enter the name of a city you have visited:\n",
      "(Enter 'quit' when you are finished.)Thailand\n",
      "I'd like to visit this Thailand!\n",
      "\n",
      "Please enter the name of a city you have visited:\n",
      "(Enter 'quit' when you are finished.)Switzerland\n",
      "I'd like to visit this Switzerland!\n",
      "\n",
      "Please enter the name of a city you have visited:\n",
      "(Enter 'quit' when you are finished.)Mexico\n",
      "I'd like to visit this Mexico!\n",
      "\n",
      "Please enter the name of a city you have visited:\n",
      "(Enter 'quit' when you are finished.)Thailand\n",
      "I'd like to visit this Thailand!\n",
      "\n",
      "Please enter the name of a city you have visited:\n",
      "(Enter 'quit' when you are finished.)Pataya\n",
      "I'd like to visit this Pataya!\n",
      "\n",
      "Please enter the name of a city you have visited:\n",
      "(Enter 'quit' when you are finished.)Cuba\n",
      "I'd like to visit this Cuba!\n",
      "\n",
      "Please enter the name of a city you have visited:\n",
      "(Enter 'quit' when you are finished.)Vancouver\n",
      "I'd like to visit this Vancouver!\n",
      "\n",
      "Please enter the name of a city you have visited:\n",
      "(Enter 'quit' when you are finished.)quit\n"
     ]
    }
   ],
   "source": [
    "prompt = \"\\nPlease enter the name of a city you have visited:\"\n",
    "prompt += \"\\n(Enter 'quit' when you are finished.)\"\n",
    "\n",
    "while True:\n",
    "    city = input(prompt)\n",
    "    \n",
    "    if city == \"quit\":\n",
    "        break\n",
    "    else:\n",
    "        print(f\"I'd like to visit this {city.title()}!\")"
   ]
  },
  {
   "cell_type": "markdown",
   "id": "bbed1bc5",
   "metadata": {},
   "source": [
    "### using continue in a loop"
   ]
  },
  {
   "cell_type": "code",
   "execution_count": 17,
   "id": "624e3897",
   "metadata": {},
   "outputs": [
    {
     "name": "stdout",
     "output_type": "stream",
     "text": [
      "1\n",
      "3\n",
      "5\n",
      "7\n",
      "9\n"
     ]
    }
   ],
   "source": [
    "# print list of odd numbers upto 10\n",
    "current_number = 0\n",
    "while current_number < 10:\n",
    "    current_number += 1\n",
    "    if current_number % 2== 0:\n",
    "        continue\n",
    "    print(current_number)"
   ]
  },
  {
   "cell_type": "code",
   "execution_count": 22,
   "id": "7aad2674",
   "metadata": {},
   "outputs": [
    {
     "name": "stdout",
     "output_type": "stream",
     "text": [
      "2\n",
      "4\n",
      "6\n",
      "8\n",
      "10\n",
      "12\n",
      "14\n",
      "16\n",
      "18\n",
      "20\n"
     ]
    }
   ],
   "source": [
    "# print list of even numbers upto 20\n",
    "current_even_n = 0\n",
    "while current_even_n < 21:      #upto 20 gets printed\n",
    "    current_even_n += 1\n",
    "    if current_even_n % 2 == 1:\n",
    "        continue\n",
    "    print(current_even_n)"
   ]
  },
  {
   "cell_type": "code",
   "execution_count": null,
   "id": "f64026c7",
   "metadata": {},
   "outputs": [],
   "source": [
    "number = 1\n",
    "\n",
    "while number <= 10:\n",
    "    square = number * number\n",
    "    print(f\"The square of {number} is {square}\")\n",
    "    number += 1\n"
   ]
  },
  {
   "cell_type": "code",
   "execution_count": 4,
   "id": "8fb044e6",
   "metadata": {},
   "outputs": [
    {
     "name": "stdout",
     "output_type": "stream",
     "text": [
      "The square of 1 is 1\n",
      "The square of 2 is 4\n",
      "The square of 3 is 9\n",
      "The square of 4 is 16\n",
      "The square of 5 is 25\n",
      "The square of 6 is 36\n",
      "The square of 7 is 49\n",
      "The square of 8 is 64\n",
      "The square of 9 is 81\n",
      "The square of 10 is 100\n"
     ]
    }
   ],
   "source": [
    "x = 1\n",
    "\n",
    "while x <= 10:\n",
    "    square = x * x\n",
    "    print(f\"The square of {x} is {square}\")\n",
    "    x += 1  # prevents infinite loop\n",
    "\n",
    "    "
   ]
  },
  {
   "cell_type": "markdown",
   "id": "696f6060",
   "metadata": {},
   "source": [
    "### using while loop with lists and dictionaries\n",
    "\n"
   ]
  },
  {
   "cell_type": "code",
   "execution_count": 7,
   "id": "ab3ded79",
   "metadata": {},
   "outputs": [
    {
     "name": "stdout",
     "output_type": "stream",
     "text": [
      "Verifying user: Aisha\n",
      "\n",
      "The following users have been confirmed:\n",
      "Aisha\n",
      "Verifying user: Solance\n",
      "\n",
      "The following users have been confirmed:\n",
      "Aisha\n",
      "Solance\n",
      "Verifying user: Britany\n",
      "\n",
      "The following users have been confirmed:\n",
      "Aisha\n",
      "Solance\n",
      "Britany\n",
      "Verifying user: Raghav\n",
      "\n",
      "The following users have been confirmed:\n",
      "Aisha\n",
      "Solance\n",
      "Britany\n",
      "Raghav\n"
     ]
    }
   ],
   "source": [
    "unconfirmed_users = ['raghav', 'britany', 'solance', 'aisha']\n",
    "confirmed_users = []\n",
    "\n",
    "while unconfirmed_users :\n",
    "    current_user = unconfirmed_users.pop()\n",
    "    \n",
    "    #moving\n",
    "    \n",
    "    print(f\"Verifying user: {current_user.title()}\")\n",
    "    confirmed_users.append(current_user)\n",
    "    \n",
    "    #displaying\n",
    "    \n",
    "    print(\"\\nThe following users have been confirmed:\")\n",
    "    for confirmed_user in confirmed_users:\n",
    "        print(confirmed_user.title())"
   ]
  },
  {
   "cell_type": "markdown",
   "id": "7dc36381",
   "metadata": {},
   "source": [
    "### removing specific values from the list"
   ]
  },
  {
   "cell_type": "code",
   "execution_count": 11,
   "id": "a1996a03",
   "metadata": {},
   "outputs": [
    {
     "name": "stdout",
     "output_type": "stream",
     "text": [
      "['dog', 'cat', 'cheetah', 'beer', 'rabbit', 'lion']\n",
      "['dog', 'cheetah', 'beer', 'rabbit', 'lion']\n"
     ]
    }
   ],
   "source": [
    "\n",
    "pets = ['dog', 'cat', 'cheetah', 'beer', 'rabbit', 'lion']\n",
    "print(pets)\n",
    "\n",
    "while 'cat' in pets:\n",
    "    pets.remove('cat')    #remove method\n",
    "\n",
    "print(pets)"
   ]
  },
  {
   "cell_type": "markdown",
   "id": "a8eb301c",
   "metadata": {},
   "source": [
    "### Filling a dictionary with user input"
   ]
  },
  {
   "cell_type": "code",
   "execution_count": 7,
   "id": "c54790f4",
   "metadata": {},
   "outputs": [
    {
     "name": "stdout",
     "output_type": "stream",
     "text": [
      "\n",
      "What is your name?sunita\n",
      "Which mountain would you like to climb someday?valdavid\n",
      "Would you like to let another person respond? (yes/no)no\n",
      "\n",
      "_______Poll Results_____________\n",
      "Sunita would like to climb Valdavid.\n"
     ]
    }
   ],
   "source": [
    "responses = {}         #initializing empty dictionary\n",
    "\n",
    "\n",
    "polling_active = True  # setting flag indicator to True\n",
    "\n",
    "while polling_active:\n",
    "    name = input(\"\\nWhat is your name?\")\n",
    "    response = input(\"Which mountain would you like to climb someday?\")\n",
    "    \n",
    "    #storing the response in a dictionary\n",
    "    responses[name] = response  #where name is the key, and response is the value\n",
    "    \n",
    "    #finding out if we want to store more keys and variables in responses\n",
    "    repeat = input(\"Would you like to let another person respond? (yes/no)\")\n",
    "    if repeat == 'no':\n",
    "        polling_active = False\n",
    "        \n",
    "#polling complete; show the results\n",
    "print(\"\\n_______Poll Results_____________\")\n",
    "for name,response in responses.items():              #for loop iterates for key, value pairs in responses dictionary\n",
    "    print(f\"{name.title()} would like to climb {response.title()}.\")"
   ]
  },
  {
   "cell_type": "code",
   "execution_count": 8,
   "id": "4f5cbb47",
   "metadata": {},
   "outputs": [
    {
     "name": "stdout",
     "output_type": "stream",
     "text": [
      "{'sunita': 'valdavid'}\n"
     ]
    }
   ],
   "source": [
    "# callling the dictionary\n",
    "print(responses)"
   ]
  },
  {
   "cell_type": "markdown",
   "id": "ef357156",
   "metadata": {},
   "source": [
    "### writing the same code with break loop\n",
    "- new dictionary is responses_new"
   ]
  },
  {
   "cell_type": "code",
   "execution_count": 14,
   "id": "0d4dafaa",
   "metadata": {},
   "outputs": [
    {
     "name": "stdout",
     "output_type": "stream",
     "text": [
      "\n",
      "What is your name?kk\n",
      "Which mountain would you like to climb someday?tatata\n",
      "Would you like to let another person respond? (yes/no)yes\n",
      "\n",
      "What is your name?paula\n",
      "Which mountain would you like to climb someday?tatal\n",
      "Would you like to let another person respond? (yes/no)no\n",
      "\n",
      "_______Poll Results_____________\n",
      "Kk would like to climb Tatata.\n",
      "Paula would like to climb Tatal.\n"
     ]
    }
   ],
   "source": [
    "responses_new = {}         #initializing empty dictionary\n",
    "\n",
    "\n",
    "\n",
    "\n",
    "while True:\n",
    "    name = input(\"\\nWhat is your name?\")\n",
    "    response = input(\"Which mountain would you like to climb someday?\")\n",
    "    \n",
    "    #storing the response in a dictionary\n",
    "    responses_new[name] = response  #where name is the key, and response is the value\n",
    "    \n",
    "    #finding out if we want to store more keys and variables in responses\n",
    "    repeat = input(\"Would you like to let another person respond? (yes/no)\")\n",
    "    if repeat.lower() != 'yes':\n",
    "        break  #exits the loop if response in not 'yes'\n",
    "        \n",
    "#polling complete; show the results\n",
    "print(\"\\n_______Poll Results_____________\")\n",
    "for name,response in responses_new.items():              #for loop iterates for key, value pairs in responses dictionary\n",
    "    print(f\"{name.title()} would like to climb {response.title()}.\")"
   ]
  },
  {
   "cell_type": "code",
   "execution_count": 13,
   "id": "18f556f5",
   "metadata": {},
   "outputs": [
    {
     "name": "stdout",
     "output_type": "stream",
     "text": [
      "{'kunal': 'kanchunjunga', 'sushil': 'peu importe'}\n"
     ]
    }
   ],
   "source": [
    "print(responses_new)"
   ]
  },
  {
   "cell_type": "code",
   "execution_count": 18,
   "id": "cb074dee",
   "metadata": {},
   "outputs": [
    {
     "name": "stdout",
     "output_type": "stream",
     "text": [
      "\n",
      "What is your name?kunal\n",
      "If I ask you to visit one place in the world, where would you go?dubai\n",
      "Next person in line, if there is one? ('yes/no')yes\n",
      "\n",
      "What is your name?martina\n",
      "If I ask you to visit one place in the world, where would you go?new brunswick\n",
      "Next person in line, if there is one? ('yes/no')yes\n",
      "\n",
      "What is your name?kathy\n",
      "If I ask you to visit one place in the world, where would you go?québec city\n",
      "Next person in line, if there is one? ('yes/no')no\n",
      "______Poll_results\n",
      "Kunal would like to go Dubai.\n",
      "Martina would like to go New Brunswick.\n",
      "Kathy would like to go Québec City.\n"
     ]
    }
   ],
   "source": [
    "# Dream vacation\n",
    "\n",
    "vacation = {}\n",
    "\n",
    "while True:\n",
    "    key = input(\"\\nWhat is your name?\")\n",
    "    value = input(\"If I ask you to visit one place in the world, where would you go?\")\n",
    "    \n",
    "    vacation[key]= value\n",
    "    \n",
    "    repeat = input(\"Next person in line, if there is one? ('yes/no')\")\n",
    "    if repeat.lower() != 'yes':\n",
    "        break\n",
    "\n",
    "#polling complete, show results\n",
    "print(\"______Poll_results\")\n",
    "for key,value in vacation.items():\n",
    "    print(f\"{key.title()} would like to go {value.title()}.\")\n"
   ]
  }
 ],
 "metadata": {
  "kernelspec": {
   "display_name": "Python 3 (ipykernel)",
   "language": "python",
   "name": "python3"
  },
  "language_info": {
   "codemirror_mode": {
    "name": "ipython",
    "version": 3
   },
   "file_extension": ".py",
   "mimetype": "text/x-python",
   "name": "python",
   "nbconvert_exporter": "python",
   "pygments_lexer": "ipython3",
   "version": "3.10.9"
  }
 },
 "nbformat": 4,
 "nbformat_minor": 5
}
