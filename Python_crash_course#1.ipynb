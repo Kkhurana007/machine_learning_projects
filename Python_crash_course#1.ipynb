{
 "cells": [
  {
   "cell_type": "markdown",
   "id": "9f3a65ed",
   "metadata": {},
   "source": [
    "# Lists, for loops\n"
   ]
  },
  {
   "cell_type": "markdown",
   "id": "5815c6c0",
   "metadata": {},
   "source": [
    "# learning outcomes\n",
    "1. You learned how to work through a list using a for loop, how Python uses indentation to structure a program, and how to avoid some common indentation errors.\n",
    "2. mple numerical lists, as well as a few operations you can perform on numerical lists. \n",
    "3. slice a list to work with a subset of items and how to copy lists properly using a slice\n",
    "4.  about tuples, which provide a degree of protection to a set of values that shouldn’t change, and how to style your increasingly complex code to make it easy to read."
   ]
  },
  {
   "cell_type": "code",
   "execution_count": 3,
   "id": "e85be21b",
   "metadata": {},
   "outputs": [
    {
     "name": "stdout",
     "output_type": "stream",
     "text": [
      "Agriculture\n",
      "Soil Science\n",
      "Francisation\n",
      "génie civil\n"
     ]
    }
   ],
   "source": [
    "# looping through list\n",
    "\n",
    "courses = ['Agriculture', 'Soil Science', 'Francisation', 'génie civil']\n",
    "for course in courses:\n",
    "    print(course)"
   ]
  },
  {
   "cell_type": "markdown",
   "id": "07df2952",
   "metadata": {},
   "source": [
    "#### Remarks-\n",
    "1) don't forget indentation in second line\n",
    "2) don't forget to include two dots\n",
    "3) with for loop, we associated course with courses, The output gets printed in seperate lines of code\n",
    "4) generic- for item in list_of_items"
   ]
  },
  {
   "cell_type": "code",
   "execution_count": 4,
   "id": "f1629049",
   "metadata": {},
   "outputs": [
    {
     "name": "stdout",
     "output_type": "stream",
     "text": [
      "Agriculture, was awesome!\n",
      "Soil Science, was awesome!\n",
      "Francisation, was awesome!\n",
      "Génie Civil, was awesome!\n"
     ]
    }
   ],
   "source": [
    "for course in courses:\n",
    "    print(f\"{course.title()}, was awesome!\")"
   ]
  },
  {
   "cell_type": "code",
   "execution_count": 10,
   "id": "5b08ecbd",
   "metadata": {},
   "outputs": [
    {
     "name": "stdout",
     "output_type": "stream",
     "text": [
      "I look forward to becoming more smart in Agriculture.\n",
      "I look forward to becoming more smart in Soil Science.\n",
      "I look forward to becoming more smart in Francisation.\n",
      "I look forward to becoming more smart in Génie Civil.\n"
     ]
    }
   ],
   "source": [
    "# adding a line in front\n",
    "for course in courses:\n",
    "    print (f\"I look forward to becoming more smart in {course.title()}.\")"
   ]
  },
  {
   "cell_type": "code",
   "execution_count": 13,
   "id": "4f8898d6",
   "metadata": {},
   "outputs": [
    {
     "name": "stdout",
     "output_type": "stream",
     "text": [
      "I will add empty line after Agriculture.\n",
      "\n",
      "I will add empty line after Soil Science.\n",
      "\n",
      "I will add empty line after Francisation.\n",
      "\n",
      "I will add empty line after Génie Civil.\n",
      "\n"
     ]
    }
   ],
   "source": [
    "# adding an empty line after\n",
    "for course in courses:\n",
    "    print (f\"I will add empty line after {course.title()}.\\n\")"
   ]
  },
  {
   "cell_type": "code",
   "execution_count": 19,
   "id": "de51a122",
   "metadata": {},
   "outputs": [
    {
     "name": "stdout",
     "output_type": "stream",
     "text": [
      "Agriculture was a great subject\n",
      "I got to learn a lot about Agriculture.\n",
      "Thanks awesome people who came to my life as mentors and changed it.\n",
      "\n",
      "Soil Science was a great subject\n",
      "I got to learn a lot about Soil Science.\n",
      "Thanks awesome people who came to my life as mentors and changed it.\n",
      "\n",
      "Francisation was a great subject\n",
      "I got to learn a lot about Francisation.\n",
      "Thanks awesome people who came to my life as mentors and changed it.\n",
      "\n",
      "Génie Civil was a great subject\n",
      "I got to learn a lot about Génie Civil.\n",
      "Thanks awesome people who came to my life as mentors and changed it.\n",
      "\n"
     ]
    }
   ],
   "source": [
    "# way to write multiple lines of code using for loop\n",
    "for course in courses:\n",
    "    print(f\"{course.title()} was a great subject\")\n",
    "    print(f\"I got to learn a lot about {course.title()}.\")\n",
    "    print(\"Thanks awesome people who came to my life as mentors and changed it.\\n\")"
   ]
  },
  {
   "cell_type": "markdown",
   "id": "d46721fb",
   "metadata": {},
   "source": [
    "### Numerical lists\n",
    "1. we use range function for that"
   ]
  },
  {
   "cell_type": "code",
   "execution_count": 21,
   "id": "e5b742fe",
   "metadata": {},
   "outputs": [
    {
     "name": "stdout",
     "output_type": "stream",
     "text": [
      "1\n",
      "2\n",
      "3\n",
      "4\n",
      "5\n"
     ]
    }
   ],
   "source": [
    "for value in range(1,6):\n",
    "    print(value)"
   ]
  },
  {
   "cell_type": "code",
   "execution_count": 22,
   "id": "911d5e8b",
   "metadata": {},
   "outputs": [
    {
     "name": "stdout",
     "output_type": "stream",
     "text": [
      "list[1]\n",
      "list[2]\n",
      "list[3]\n",
      "list[4]\n",
      "list[5]\n"
     ]
    }
   ],
   "source": [
    "# printing a list of numbers\n",
    "for value in range(1,6):\n",
    "    print(list[value])"
   ]
  },
  {
   "cell_type": "code",
   "execution_count": 23,
   "id": "447eaf10",
   "metadata": {},
   "outputs": [
    {
     "name": "stdout",
     "output_type": "stream",
     "text": [
      "[1, 2, 3, 4, 5]\n"
     ]
    }
   ],
   "source": [
    "# printing list of numbers using list function\n",
    "numbers = list(range(1,6))\n",
    "print(numbers)"
   ]
  },
  {
   "cell_type": "code",
   "execution_count": 25,
   "id": "7a0e8ab3",
   "metadata": {},
   "outputs": [
    {
     "name": "stdout",
     "output_type": "stream",
     "text": [
      "[0, 2, 4, 6, 8, 10]\n"
     ]
    }
   ],
   "source": [
    "# printing even numbers\n",
    "even_numbers = list(range(0,11,2))\n",
    "print(even_numbers)"
   ]
  },
  {
   "cell_type": "code",
   "execution_count": 29,
   "id": "b1cede00",
   "metadata": {},
   "outputs": [
    {
     "name": "stdout",
     "output_type": "stream",
     "text": [
      "[1]\n",
      "[1, 4]\n",
      "[1, 4, 9]\n",
      "[1, 4, 9, 16]\n",
      "[1, 4, 9, 16, 25]\n",
      "[1, 4, 9, 16, 25, 36]\n",
      "[1, 4, 9, 16, 25, 36, 49]\n",
      "[1, 4, 9, 16, 25, 36, 49, 64]\n",
      "[1, 4, 9, 16, 25, 36, 49, 64, 81]\n",
      "[1, 4, 9, 16, 25, 36, 49, 64, 81, 100]\n",
      "[1, 4, 9, 16, 25, 36, 49, 64, 81, 100]\n"
     ]
    }
   ],
   "source": [
    "squares = []\n",
    "for value in range(1,11):\n",
    "    square = value ** 2\n",
    "    squares.append(square)\n",
    "    print(squares)\n",
    "print (squares)                       #difference between this and previous, wow!\n",
    "\n",
    "# indentation is important"
   ]
  },
  {
   "cell_type": "code",
   "execution_count": null,
   "id": "85f3fc72",
   "metadata": {},
   "outputs": [],
   "source": []
  },
  {
   "cell_type": "code",
   "execution_count": 28,
   "id": "3eff77df",
   "metadata": {},
   "outputs": [
    {
     "name": "stdout",
     "output_type": "stream",
     "text": [
      "[1, 4, 9, 16, 25, 36, 49, 64, 81, 100]\n"
     ]
    }
   ],
   "source": [
    "print(squares)"
   ]
  },
  {
   "cell_type": "code",
   "execution_count": 31,
   "id": "2c33362f",
   "metadata": {},
   "outputs": [
    {
     "name": "stdout",
     "output_type": "stream",
     "text": [
      "[1, 4, 9, 16, 25, 36, 49, 64, 81, 100]\n"
     ]
    }
   ],
   "source": [
    "# precise way\n",
    "\n",
    "sq_numbers = []\n",
    "for a in range(1,11):\n",
    "    sq_numbers.append(a**2)\n",
    "print(sq_numbers)"
   ]
  },
  {
   "cell_type": "markdown",
   "id": "909d7929",
   "metadata": {},
   "source": [
    "## List comprehensions"
   ]
  },
  {
   "cell_type": "markdown",
   "id": "d875fbf9",
   "metadata": {},
   "source": [
    "1. extended form of a for loop (result we need in front, followed by for loop)\n",
    "2. combines for loop and creates new elements in one line"
   ]
  },
  {
   "cell_type": "code",
   "execution_count": null,
   "id": "4e19c1e0",
   "metadata": {},
   "outputs": [],
   "source": []
  },
  {
   "cell_type": "code",
   "execution_count": 33,
   "id": "189f13a5",
   "metadata": {},
   "outputs": [
    {
     "name": "stdout",
     "output_type": "stream",
     "text": [
      "[1, 4, 9, 16, 25, 36, 49, 64, 81, 100]\n"
     ]
    }
   ],
   "source": [
    "sq = [value**2 for value in range(1, 11)]\n",
    "print(sq)"
   ]
  },
  {
   "cell_type": "code",
   "execution_count": 38,
   "id": "b675a160",
   "metadata": {},
   "outputs": [
    {
     "name": "stdout",
     "output_type": "stream",
     "text": [
      "[1, 8, 27, 64, 125, 216, 343, 512, 729, 1000]\n"
     ]
    }
   ],
   "source": [
    "cubes = [value**3 for value in range(1,11)]\n",
    "print(cubes)"
   ]
  },
  {
   "cell_type": "markdown",
   "id": "990debe7",
   "metadata": {},
   "source": [
    "### Looping through a slice"
   ]
  },
  {
   "cell_type": "code",
   "execution_count": 40,
   "id": "5d9bc441",
   "metadata": {},
   "outputs": [
    {
     "name": "stdout",
     "output_type": "stream",
     "text": [
      "here are the list of universities, I studied:\n",
      "Punjabi\n",
      "Pau\n",
      "Laval\n",
      "Mcgill\n"
     ]
    }
   ],
   "source": [
    "universities = ['punjabi', 'pau', 'laval', 'Mcgill']\n",
    "print(\"here are the list of universities, I studied:\")\n",
    "for university in universities:\n",
    "    print(university.title())\n",
    "    "
   ]
  },
  {
   "cell_type": "markdown",
   "id": "906ab791",
   "metadata": {},
   "source": [
    "### Tuples\n",
    "1. they are immutable lists\n",
    "2. uses parenthesis instead of square brackets\n",
    "3. To define a tupel with one element, you need a comma behind\n"
   ]
  },
  {
   "cell_type": "code",
   "execution_count": 45,
   "id": "cba03eef",
   "metadata": {},
   "outputs": [
    {
     "name": "stdout",
     "output_type": "stream",
     "text": [
      "('Aloo gobhi', 'matar paneer', 'parantha', 'raita', 'roti')\n"
     ]
    }
   ],
   "source": [
    "Buffet= ('Aloo gobhi', 'matar paneer', 'parantha', 'raita', 'roti',)\n",
    "print(Buffet)"
   ]
  },
  {
   "cell_type": "code",
   "execution_count": 46,
   "id": "1118d9e3",
   "metadata": {},
   "outputs": [
    {
     "ename": "TypeError",
     "evalue": "'tuple' object does not support item assignment",
     "output_type": "error",
     "traceback": [
      "\u001b[1;31m---------------------------------------------------------------------------\u001b[0m",
      "\u001b[1;31mTypeError\u001b[0m                                 Traceback (most recent call last)",
      "Cell \u001b[1;32mIn[46], line 1\u001b[0m\n\u001b[1;32m----> 1\u001b[0m Buffet[\u001b[38;5;241m1\u001b[39m]\u001b[38;5;241m=\u001b[39m (\u001b[38;5;124m'\u001b[39m\u001b[38;5;124mpappad\u001b[39m\u001b[38;5;124m'\u001b[39m)\n",
      "\u001b[1;31mTypeError\u001b[0m: 'tuple' object does not support item assignment"
     ]
    }
   ],
   "source": [
    "Buffet[1]= ('pappad')"
   ]
  },
  {
   "cell_type": "code",
   "execution_count": 47,
   "id": "4cb92d7e",
   "metadata": {},
   "outputs": [
    {
     "name": "stdout",
     "output_type": "stream",
     "text": [
      "Buffet:\n",
      "Aloo gobhi\n",
      "matar paneer\n",
      "parantha\n",
      "raita\n",
      "roti\n"
     ]
    }
   ],
   "source": [
    "print(\"Buffet:\")\n",
    "for item in Buffet:\n",
    "    print(item)\n",
    "    \n"
   ]
  },
  {
   "cell_type": "code",
   "execution_count": 49,
   "id": "1dda3c9f",
   "metadata": {},
   "outputs": [
    {
     "name": "stdout",
     "output_type": "stream",
     "text": [
      "New_buffet:\n",
      "raita\n",
      "parantha\n",
      "butternan\n",
      "allogobhi\n",
      "Kasaurimethi\n"
     ]
    }
   ],
   "source": [
    "New_buffet = ('raita', 'parantha', 'butternan', 'allogobhi', 'Kasaurimethi')\n",
    "print('New_buffet:')\n",
    "for item in New_buffet:\n",
    "    print(item)"
   ]
  },
  {
   "cell_type": "markdown",
   "id": "dc308f49",
   "metadata": {},
   "source": [
    "Respecting community; some guidelines\n",
    "1. Indentation- PEP 8\n",
    "2. line length- 79 characters long\n",
    "3. Blank lines - 5 lines of code follwoed by a blank line is suggested\n"
   ]
  }
 ],
 "metadata": {
  "kernelspec": {
   "display_name": "Python 3 (ipykernel)",
   "language": "python",
   "name": "python3"
  },
  "language_info": {
   "codemirror_mode": {
    "name": "ipython",
    "version": 3
   },
   "file_extension": ".py",
   "mimetype": "text/x-python",
   "name": "python",
   "nbconvert_exporter": "python",
   "pygments_lexer": "ipython3",
   "version": "3.10.9"
  }
 },
 "nbformat": 4,
 "nbformat_minor": 5
}
